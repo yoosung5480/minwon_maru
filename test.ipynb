{
 "cells": [
  {
   "cell_type": "code",
   "execution_count": null,
   "id": "a42f28d5",
   "metadata": {},
   "outputs": [
    {
     "ename": "FileNotFoundError",
     "evalue": "[Errno 2] No such file or directory: '/Users/yujin/Desktop/코딩shit/python_projects/대한민국해커톤/민원마루ver1/datas/rawDocs'",
     "output_type": "error",
     "traceback": [
      "\u001b[0;31m---------------------------------------------------------------------------\u001b[0m",
      "\u001b[0;31mFileNotFoundError\u001b[0m                         Traceback (most recent call last)",
      "Cell \u001b[0;32mIn[1], line 14\u001b[0m\n\u001b[1;32m      1\u001b[0m \u001b[38;5;28;01mfrom\u001b[39;00m\u001b[38;5;250m \u001b[39m\u001b[38;5;21;01mminwon_maru\u001b[39;00m\u001b[38;5;21;01m.\u001b[39;00m\u001b[38;5;21;01mengine\u001b[39;00m\u001b[38;5;21;01m.\u001b[39;00m\u001b[38;5;21;01mchat\u001b[39;00m\u001b[38;5;250m \u001b[39m\u001b[38;5;28;01mimport\u001b[39;00m ChatManager, ProjPath\n\u001b[1;32m      4\u001b[0m paths \u001b[38;5;241m=\u001b[39m ProjPath(\n\u001b[1;32m      5\u001b[0m         data_root_str\u001b[38;5;241m=\u001b[39m\u001b[38;5;124m\"\u001b[39m\u001b[38;5;124m/Users/yujin/Desktop/코딩shit/python_projects/대한민국해커톤/민원마루ver1/datas\u001b[39m\u001b[38;5;124m\"\u001b[39m,\n\u001b[1;32m      6\u001b[0m         metadata_name\u001b[38;5;241m=\u001b[39m\u001b[38;5;124m\"\u001b[39m\u001b[38;5;124mmetadata.json\u001b[39m\u001b[38;5;124m\"\u001b[39m,\n\u001b[0;32m   (...)\u001b[0m\n\u001b[1;32m     11\u001b[0m         departemt_info_name\u001b[38;5;241m=\u001b[39m\u001b[38;5;124m\"\u001b[39m\u001b[38;5;124mdepartment_info.json\u001b[39m\u001b[38;5;124m\"\u001b[39m\n\u001b[1;32m     12\u001b[0m     )\n\u001b[0;32m---> 14\u001b[0m manager \u001b[38;5;241m=\u001b[39m \u001b[43mChatManager\u001b[49m\u001b[43m(\u001b[49m\u001b[43mpaths\u001b[49m\u001b[43m)\u001b[49m\n\u001b[1;32m     15\u001b[0m chat_id \u001b[38;5;241m=\u001b[39m manager\u001b[38;5;241m.\u001b[39mstart_chat()\n\u001b[1;32m     18\u001b[0m sample_user_q \u001b[38;5;241m=\u001b[39m \u001b[38;5;124m\"\u001b[39m\u001b[38;5;124m금정도서관 주차장 이용은 공짜야? 다음주 월요일에 방문하면 몇시까지해?\u001b[39m\u001b[38;5;124m\"\u001b[39m\n",
      "File \u001b[0;32m~/Desktop/코딩shit/python_projects/대한민국해커톤/민원마루ver1/ai_backend/minwon_maru/engine/chat.py:155\u001b[0m, in \u001b[0;36mChatManager.__init__\u001b[0;34m(self, paths)\u001b[0m\n\u001b[1;32m    153\u001b[0m \u001b[38;5;28mself\u001b[39m\u001b[38;5;241m.\u001b[39mserver_id \u001b[38;5;241m=\u001b[39m \u001b[38;5;28;01mNone\u001b[39;00m\n\u001b[1;32m    154\u001b[0m \u001b[38;5;28mself\u001b[39m\u001b[38;5;241m.\u001b[39mchat: Chat \u001b[38;5;241m|\u001b[39m \u001b[38;5;28;01mNone\u001b[39;00m \u001b[38;5;241m=\u001b[39m \u001b[38;5;28;01mNone\u001b[39;00m\n\u001b[0;32m--> 155\u001b[0m \u001b[38;5;28;43mself\u001b[39;49m\u001b[38;5;241;43m.\u001b[39;49m\u001b[43m_init_store\u001b[49m\u001b[43m(\u001b[49m\u001b[43m)\u001b[49m\n",
      "File \u001b[0;32m~/Desktop/코딩shit/python_projects/대한민국해커톤/민원마루ver1/ai_backend/minwon_maru/engine/chat.py:158\u001b[0m, in \u001b[0;36mChatManager._init_store\u001b[0;34m(self)\u001b[0m\n\u001b[1;32m    157\u001b[0m \u001b[38;5;28;01mdef\u001b[39;00m\u001b[38;5;250m \u001b[39m\u001b[38;5;21m_init_store\u001b[39m(\u001b[38;5;28mself\u001b[39m):\n\u001b[0;32m--> 158\u001b[0m     ok \u001b[38;5;241m=\u001b[39m \u001b[43mcheck_filesystem_concurrency\u001b[49m\u001b[43m(\u001b[49m\n\u001b[1;32m    159\u001b[0m \u001b[43m        \u001b[49m\u001b[43mdata_root\u001b[49m\u001b[38;5;241;43m=\u001b[39;49m\u001b[38;5;28;43mself\u001b[39;49m\u001b[38;5;241;43m.\u001b[39;49m\u001b[43mpaths\u001b[49m\u001b[38;5;241;43m.\u001b[39;49m\u001b[43mdata_root_str\u001b[49m\n\u001b[1;32m    160\u001b[0m \u001b[43m    \u001b[49m\u001b[43m)\u001b[49m\n\u001b[1;32m    161\u001b[0m     \u001b[38;5;28;01mif\u001b[39;00m ok \u001b[38;5;129;01mand\u001b[39;00m \u001b[38;5;28mself\u001b[39m\u001b[38;5;241m.\u001b[39mpaths\u001b[38;5;241m.\u001b[39mmetadata_path\u001b[38;5;241m.\u001b[39mexists():\n\u001b[1;32m    162\u001b[0m         \u001b[38;5;28;01mtry\u001b[39;00m:\n",
      "File \u001b[0;32m~/Desktop/코딩shit/python_projects/대한민국해커톤/민원마루ver1/ai_backend/minwon_maru/engine/init/check_consistency.py:24\u001b[0m, in \u001b[0;36mcheck_filesystem_concurrency\u001b[0;34m(data_root, rawDocs_name, parsed_docs_name, metadata_name)\u001b[0m\n\u001b[1;32m     21\u001b[0m metadata_path \u001b[38;5;241m=\u001b[39m os\u001b[38;5;241m.\u001b[39mpath\u001b[38;5;241m.\u001b[39mjoin(data_root, metadata_name)\n\u001b[1;32m     23\u001b[0m \u001b[38;5;66;03m# --- 1. rawDocs와 parsedDocs 이름 동기화 ---\u001b[39;00m\n\u001b[0;32m---> 24\u001b[0m pdf_files \u001b[38;5;241m=\u001b[39m [os\u001b[38;5;241m.\u001b[39mpath\u001b[38;5;241m.\u001b[39msplitext(f)[\u001b[38;5;241m0\u001b[39m] \u001b[38;5;28;01mfor\u001b[39;00m f \u001b[38;5;129;01min\u001b[39;00m \u001b[43mos\u001b[49m\u001b[38;5;241;43m.\u001b[39;49m\u001b[43mlistdir\u001b[49m\u001b[43m(\u001b[49m\u001b[43mraw_dir\u001b[49m\u001b[43m)\u001b[49m \u001b[38;5;28;01mif\u001b[39;00m f\u001b[38;5;241m.\u001b[39mendswith(\u001b[38;5;124m\"\u001b[39m\u001b[38;5;124m.pdf\u001b[39m\u001b[38;5;124m\"\u001b[39m)]\n\u001b[1;32m     25\u001b[0m json_files \u001b[38;5;241m=\u001b[39m [os\u001b[38;5;241m.\u001b[39mpath\u001b[38;5;241m.\u001b[39msplitext(f)[\u001b[38;5;241m0\u001b[39m] \u001b[38;5;28;01mfor\u001b[39;00m f \u001b[38;5;129;01min\u001b[39;00m os\u001b[38;5;241m.\u001b[39mlistdir(parsed_dir) \u001b[38;5;28;01mif\u001b[39;00m f\u001b[38;5;241m.\u001b[39mendswith(\u001b[38;5;124m\"\u001b[39m\u001b[38;5;124m.json\u001b[39m\u001b[38;5;124m\"\u001b[39m)]\n\u001b[1;32m     27\u001b[0m \u001b[38;5;66;03m# rawDocs에 없는 json 파일 제거\u001b[39;00m\n",
      "\u001b[0;31mFileNotFoundError\u001b[0m: [Errno 2] No such file or directory: '/Users/yujin/Desktop/코딩shit/python_projects/대한민국해커톤/민원마루ver1/datas/rawDocs'"
     ]
    }
   ],
   "source": [
    "from minwon_maru.engine.chat import ChatManager, ProjPath\n",
    "\n",
    "\n",
    "paths = ProjPath(\n",
    "        data_root_str=\"./datas\",\n",
    "        metadata_name=\"metadata.json\",\n",
    "        raw_docs_dir=\"rawDocs\",\n",
    "        parsed_docs_dir=\"parsedDocs\",\n",
    "        workpages_name=\"work_page_info.json\",\n",
    "        reference_root_str=\"reference\",\n",
    "        departemt_info_name=\"department_info.json\"\n",
    "    )\n",
    "\n",
    "manager = ChatManager(paths)\n",
    "chat_id = manager.start_chat()\n",
    "\n",
    "\n",
    "sample_user_q = \"금정도서관 주차장 이용은 공짜야? 다음주 월요일에 방문하면 몇시까지해?\"\n",
    "sample_reps = manager.ask(sample_user_q)\n"
   ]
  },
  {
   "cell_type": "code",
   "execution_count": 11,
   "id": "82d2fe1d",
   "metadata": {},
   "outputs": [
    {
     "name": "stdout",
     "output_type": "stream",
     "text": [
      "user input :  금정도서관 주차장 이용은 공짜야? 다음주 월요일에 방문하면 몇시까지해?\n",
      "test output :  문의해주셔서 감사합니다.  \n",
      "금정도서관 주차장은 **유료로 운영**되고 있습니다.  \n",
      "다만, 입차 후 **최초 30분은 무료**이며, 이후에는 10분마다 100원이 부과되고, 1일 최대 주차요금은 4,700원입니다.\n",
      "\n",
      "그리고 **운영시간**에 대해 안내드리면,  \n",
      "- 화요일~금요일: 09:00~22:00  \n",
      "- 토요일·일요일: 09:00~17:00  \n",
      "- 도서관 휴관일(월요일)에는 주차장이 **폐쇄**됩니다.\n",
      "\n",
      "즉, **다음 주 월요일에는 금정도서관 주차장 이용이 불가**합니다.  \n",
      "다른 궁금한 사항 있으시면 언제든 문의해주세요.\n"
     ]
    }
   ],
   "source": [
    "print(\"user input : \", sample_user_q)\n",
    "print(\"test output : \", sample_reps[\"generation\"])"
   ]
  },
  {
   "cell_type": "code",
   "execution_count": 12,
   "id": "74c1312e",
   "metadata": {},
   "outputs": [
    {
     "name": "stdout",
     "output_type": "stream",
     "text": [
      "raw_inputs :  {'ability': '민원 행정', 'input': '온라인으로 민증 발급은 어떻게해?, 내 민증은 아래와 같아 000711-3333333'}\n",
      "masked :  {'ability': '민원 행정', 'input': '온라인으로 민증 발급은 어떻게해?, 내 민증은 아래와 같아 000711-*******'}\n",
      "\n",
      "==== [CHECK DOCUMENT RELEVANCE TO QUESTION] ====\n",
      "\n",
      "==== [GRADE: DOCUMENT NOT RELEVANT] ====\n",
      "==== [GRADE: DOCUMENT NOT RELEVANT] ====\n",
      "==== [GRADE: DOCUMENT NOT RELEVANT] ====\n",
      "==== [GRADE: DOCUMENT NOT RELEVANT] ====\n",
      "==== [GRADE: DOCUMENT NOT RELEVANT] ====\n",
      "==== [GRADE: DOCUMENT NOT RELEVANT] ====\n",
      "==== [GRADE: DOCUMENT NOT RELEVANT] ====\n",
      "==== [GRADE: DOCUMENT NOT RELEVANT] ====\n",
      "==== [GRADE: NO DOCUMENTS] ====\n",
      "==== [ASSESS GRADED DOCUMENTS] ====\n",
      "\n",
      "==== [WEB SEARCH] ====\n",
      "\n",
      "web search result : \n",
      " {'url': 'https://www.mois.go.kr/video/bbs/type019/commonSelectBoardArticle.do?bbsId=BBSMSTR_000000000255&nttId=116505&searchCode1=', 'title': '모바일 주민등록증 전국 발급···28일부터 온라인 신청 - 행정안전부', 'content': 'Missing: 아래와 같아 000711-', 'score': 0.6796259, 'raw_content': \"![크게](/images/videoNew/common/main_01.gif)\\n![작게](/images/videoNew/common/main_02.gif)\\n\\n# [행정안전부 동영상뉴스](/video/a01/videoMain.do)\\n\\n![행정안전부 동영상뉴스](/images/videoNew/common/main_logo.gif)\\n![국가상징 알아보기](/images/videoNew/common/main_04.gif)\\n![전체메뉴](/images/videoNew/common/menu_open.gif)\\n![검색](/images/videoNew/common/search_open.gif)\\n![닫기](/images/videoNew/common/menu_close.png)![모바일 주민등록증 전국 발급···28일부터 온라인 신청 공유하기](/images/videoNew/main/main_08_1.gif)\\n![전체 더보기](/images/videoNew/main/main_09.png)\\n![내년 지방세제, 비수도권·인구감소지역 '감면'](/utl/web/imgSrc.do?atchFileId=BBS_202508290938566100_jpg)\\n![내년 지방세제, 비수도권·인구감소지역 '감면' 공유하기](/images/videoNew/main/main_18.png)\\n![지자체-마을-취약계층 하나로 연결··· 빈틈없이 재난정보 전달한다](/utl/web/imgSrc.do?atchFileId=BBS_202508290936039400_jpg)\\n![지자체-마을-취약계층 하나로 연결··· 빈틈없이 재난정보 전달한다 공유하기](/images/videoNew/main/main_18.png)\\n!['1인 세대' 1천만 돌파···전체 세대의 42%](/utl/web/imgSrc.do?atchFileId=BBS_202508280856416740_png)\\n!['1인 세대' 1천만 돌파···전체 세대의 42% 공유하기](/images/videoNew/main/main_18.png)\\n![오후까지 전국 곳곳에 비···무더위 계속](/utl/web/imgSrc.do?atchFileId=BBS_202508270919340670_png)\\n![오후까지 전국 곳곳에 비···무더위 계속 공유하기](/images/videoNew/main/main_18.png)\\n![중부 지방 중심 강한 비···중대본 1단계 가동](/utl/web/imgSrc.do?atchFileId=BBS_202508270915514190_png)\\n![중부 지방 중심 강한 비···중대본 1단계 가동 공유하기](/images/videoNew/main/main_18.png)\\n![폭염 속 전국 대부분 비···수도권 최대 100mm↑](/utl/web/imgSrc.do?atchFileId=BBS_202508260906067140_png)\\n![폭염 속 전국 대부분 비···수도권 최대 100mm↑ 공유하기](/images/videoNew/main/main_18.png)\\n![행안부, 호우·가뭄 피해 지역에 재난특교세 45억 지원](/utl/web/imgSrc.do?atchFileId=BBS_202508260902593110_png)\\n![행안부, 호우·가뭄 피해 지역에 재난특교세 45억 지원 공유하기](/images/videoNew/main/main_18.png)\\n\\n본관 : 30112 세종특별자치시 도움6로 42(어진동) / 별관 : 30116 세종특별자치시 가름로 143(어진동)  \\n정부민원안내콜센터 국번없이 110,\\n행정안전부 콜센터 02-2100-3399 (월~금 9:00~18:00, 공휴일 제외) / 팩스 044-204-8911  \\nⓒ Ministry of the Interior and Safety. All rights reserved.\\n\\n03171 서울특별시 종로구 세종대로 209 (세종로)  \\nCopyright ⓒ Ministry of the Interior and Safety. All rights reserved.\"}\n",
      "raw_inputs :  {'input': '당신은 한국 지방자치단체의 민원 상담을 돕는 스마트 어시스턴트입니다.\\n현재 제공된 행정 문서에서는 사용자의 질문에 대한 직접적인 답을 찾지 못했습니다.\\n따라서 외부 검색 결과(웹 정보)를 참고하여 민원인에게 도움이 될 수 있는 답변을 제공합니다.\\n\\n아래는 검색을 통해 수집한 컨텍스트이며, 사용자의 질문은 해당 주제에 대한 안내를 요청한 것입니다.\\n당신의 역할은 이 컨텍스트를 기반으로 **명확하고 신뢰성 있게 정리된 답변**을 제공하는 것입니다.\\n가능하다면 공공기관·지자체 공식 사이트, 행정절차, 연락처 등 신뢰할 수 있는 정보를 강조하세요.  \\n\\n만약 컨텍스트에 해당 정보가 전혀 없거나 불확실하다면, \\n\\'현재 제공된 자료에는 정확한 답변이 없습니다. 관련 부서나 공식 홈페이지를 통해 확인하시길 권장드립니다.\\'라고 정직하게 답하세요.\\n\\n최종 출력은 민원 상담원답게 공손한 한국어 문장으로 작성하세요.\\n\\n#검색 컨텍스트:\\n{\\'url\\': \\'https://www.mois.go.kr/video/bbs/type019/commonSelectBoardArticle.do?bbsId=BBSMSTR_000000000255&nttId=116505&searchCode1=\\', \\'title\\': \\'모바일 주민등록증 전국 발급···28일부터 온라인 신청 - 행정안전부\\', \\'content\\': \\'Missing: 아래와 같아 000711-\\', \\'score\\': 0.6796259, \\'raw_content\\': \"![크게](/images/videoNew/common/main_01.gif)\\\\n![작게](/images/videoNew/common/main_02.gif)\\\\n\\\\n# [행정안전부 동영상뉴스](/video/a01/videoMain.do)\\\\n\\\\n![행정안전부 동영상뉴스](/images/videoNew/common/main_logo.gif)\\\\n![국가상징 알아보기](/images/videoNew/common/main_04.gif)\\\\n![전체메뉴](/images/videoNew/common/menu_open.gif)\\\\n![검색](/images/videoNew/common/search_open.gif)\\\\n![닫기](/images/videoNew/common/menu_close.png)![모바일 주민등록증 전국 발급···28일부터 온라인 신청 공유하기](/images/videoNew/main/main_08_1.gif)\\\\n![전체 더보기](/images/videoNew/main/main_09.png)\\\\n![내년 지방세제, 비수도권·인구감소지역 \\'감면\\'](/utl/web/imgSrc.do?atchFileId=BBS_202508290938566100_jpg)\\\\n![내년 지방세제, 비수도권·인구감소지역 \\'감면\\' 공유하기](/images/videoNew/main/main_18.png)\\\\n![지자체-마을-취약계층 하나로 연결··· 빈틈없이 재난정보 전달한다](/utl/web/imgSrc.do?atchFileId=BBS_202508290936039400_jpg)\\\\n![지자체-마을-취약계층 하나로 연결··· 빈틈없이 재난정보 전달한다 공유하기](/images/videoNew/main/main_18.png)\\\\n![\\'1인 세대\\' 1천만 돌파···전체 세대의 42%](/utl/web/imgSrc.do?atchFileId=BBS_202508280856416740_png)\\\\n![\\'1인 세대\\' 1천만 돌파···전체 세대의 42% 공유하기](/images/videoNew/main/main_18.png)\\\\n![오후까지 전국 곳곳에 비···무더위 계속](/utl/web/imgSrc.do?atchFileId=BBS_202508270919340670_png)\\\\n![오후까지 전국 곳곳에 비···무더위 계속 공유하기](/images/videoNew/main/main_18.png)\\\\n![중부 지방 중심 강한 비···중대본 1단계 가동](/utl/web/imgSrc.do?atchFileId=BBS_202508270915514190_png)\\\\n![중부 지방 중심 강한 비···중대본 1단계 가동 공유하기](/images/videoNew/main/main_18.png)\\\\n![폭염 속 전국 대부분 비···수도권 최대 100mm↑](/utl/web/imgSrc.do?atchFileId=BBS_202508260906067140_png)\\\\n![폭염 속 전국 대부분 비···수도권 최대 100mm↑ 공유하기](/images/videoNew/main/main_18.png)\\\\n![행안부, 호우·가뭄 피해 지역에 재난특교세 45억 지원](/utl/web/imgSrc.do?atchFileId=BBS_202508260902593110_png)\\\\n![행안부, 호우·가뭄 피해 지역에 재난특교세 45억 지원 공유하기](/images/videoNew/main/main_18.png)\\\\n\\\\n본관 : 30112 세종특별자치시 도움6로 42(어진동) / 별관 : 30116 세종특별자치시 가름로 143(어진동)  \\\\n정부민원안내콜센터 국번없이 110,\\\\n행정안전부 콜센터 02-2100-3399 (월~금 9:00~18:00, 공휴일 제외) / 팩스 044-204-8911  \\\\nⓒ Ministry of the Interior and Safety. All rights reserved.\\\\n\\\\n03171 서울특별시 종로구 세종대로 209 (세종로)  \\\\nCopyright ⓒ Ministry of the Interior and Safety. All rights reserved.\"}\\n\\n#사용자 질문:\\n온라인으로 민증 발급은 어떻게해?, 내 민증은 아래와 같아 000711-*******\\n\\n#답변:\\n', 'raw_input': '온라인으로 민증 발급은 어떻게해?, 내 민증은 아래와 같아 000711-*******', 'ability': '민원 행정', 'history': [HumanMessage(content='금정도서관 주차장 이용은 공짜야? 다음주 월요일에 방문하면 몇시까지해?', additional_kwargs={}, response_metadata={}), AIMessage(content='문의해주셔서 감사합니다.  \\n금정도서관 주차장은 **유료로 운영**되고 있습니다.  \\n다만, 입차 후 **최초 30분은 무료**이며, 이후에는 10분마다 100원이 부과되고, 1일 최대 주차요금은 4,700원입니다.\\n\\n그리고 **운영시간**에 대해 안내드리면,  \\n- 화요일~금요일: 09:00~22:00  \\n- 토요일·일요일: 09:00~17:00  \\n- 도서관 휴관일(월요일)에는 주차장이 **폐쇄**됩니다.\\n\\n즉, **다음 주 월요일에는 금정도서관 주차장 이용이 불가**합니다.  \\n다른 궁금한 사항 있으시면 언제든 문의해주세요.', additional_kwargs={}, response_metadata={})], 'context': ''}\n",
      "masked :  {'input': '당신은 한국 지방자치단체의 민원 상담을 돕는 스마트 어시스턴트입니다.\\n현재 제공된 행정 문서에서는 사용자의 질문에 대한 직접적인 답을 찾지 못했습니다.\\n따라서 외부 검색 결과(웹 정보)를 참고하여 민원인에게 도움이 될 수 있는 답변을 제공합니다.\\n\\n아래는 검색을 통해 수집한 컨텍스트이며, 사용자의 질문은 해당 주제에 대한 안내를 요청한 것입니다.\\n당신의 역할은 이 컨텍스트를 기반으로 **명확하고 신뢰성 있게 정리된 답변**을 제공하는 것입니다.\\n가능하다면 공공기관·지자체 공식 사이트, 행정절차, 연락처 등 신뢰할 수 있는 정보를 강조하세요.  \\n\\n만약 컨텍스트에 해당 정보가 전혀 없거나 불확실하다면, \\n\\'현재 제공된 자료에는 정확한 답변이 없습니다. 관련 부서나 공식 홈페이지를 통해 확인하시길 권장드립니다.\\'라고 정직하게 답하세요.\\n\\n최종 출력은 민원 상담원답게 공손한 한국어 문장으로 작성하세요.\\n\\n#검색 컨텍스트:\\n{\\'url\\': \\'https://www.mois.go.kr/video/bbs/type019/commonSelectBoardArticle.do?bbsId=BBSMSTR_***********5&nttId=116505&searchCode1=\\', \\'title\\': \\'모바일 주민등록증 전국 발급···28일부터 온라인 신청 - 행정안전부\\', \\'content\\': \\'Missing: 아래와 같아 000711-\\', \\'score\\': 0.6796259, \\'raw_content\\': \"![크게](/images/videoNew/common/main_01.gif)\\\\n![작게](/images/videoNew/common/main_02.gif)\\\\n\\\\n# [행정안전부 동영상뉴스](/video/a01/videoMain.do)\\\\n\\\\n![행정안전부 동영상뉴스](/images/videoNew/common/main_logo.gif)\\\\n![국가상징 알아보기](/images/videoNew/common/main_04.gif)\\\\n![전체메뉴](/images/videoNew/common/menu_open.gif)\\\\n![검색](/images/videoNew/common/search_open.gif)\\\\n![닫기](/images/videoNew/common/menu_close.png)![모바일 주민등록증 전국 발급···28일부터 온라인 신청 공유하기](/images/videoNew/main/main_08_1.gif)\\\\n![전체 더보기](/images/videoNew/main/main_09.png)\\\\n![내년 지방세제, 비수도권·인구감소지역 \\'감면\\'](/utl/web/imgSrc.do?atchFileId=BBS_2**********-*******_jpg)\\\\n![내년 지방세제, 비수도권·인구감소지역 \\'감면\\' 공유하기](/images/videoNew/main/main_18.png)\\\\n![지자체-마을-취약계층 하나로 연결··· 빈틈없이 재난정보 전달한다](/utl/web/imgSrc.do?atchFileId=BBS_2**********-*******_jpg)\\\\n![지자체-마을-취약계층 하나로 연결··· 빈틈없이 재난정보 전달한다 공유하기](/images/videoNew/main/main_18.png)\\\\n![\\'1인 세대\\' 1천만 돌파···전체 세대의 42%](/utl/web/imgSrc.do?atchFileId=BBS_2**********-*******_png)\\\\n![\\'1인 세대\\' 1천만 돌파···전체 세대의 42% 공유하기](/images/videoNew/main/main_18.png)\\\\n![오후까지 전국 곳곳에 비···무더위 계속](/utl/web/imgSrc.do?atchFileId=BBS_2**********-*******_png)\\\\n![오후까지 전국 곳곳에 비···무더위 계속 공유하기](/images/videoNew/main/main_18.png)\\\\n![중부 지방 중심 강한 비···중대본 1단계 가동](/utl/web/imgSrc.do?atchFileId=BBS_2**********-*******_png)\\\\n![중부 지방 중심 강한 비···중대본 1단계 가동 공유하기](/images/videoNew/main/main_18.png)\\\\n![폭염 속 전국 대부분 비···수도권 최대 100mm↑](/utl/web/imgSrc.do?atchFileId=BBS_2**********-*******_png)\\\\n![폭염 속 전국 대부분 비···수도권 최대 100mm↑ 공유하기](/images/videoNew/main/main_18.png)\\\\n![행안부, 호우·가뭄 피해 지역에 재난특교세 45억 지원](/utl/web/imgSrc.do?atchFileId=BBS_2**********-*******_png)\\\\n![행안부, 호우·가뭄 피해 지역에 재난특교세 45억 지원 공유하기](/images/videoNew/main/main_18.png)\\\\n\\\\n본관 : 30112 세종특별자치시 도움6로 42(어진동) / 별관 : 30116 세종특별자치시 가름로 143(어진동)  \\\\n정부민원안내콜센터 국번없이 110,\\\\n행정안전부 콜센터 **-****-**** (월~금 9:00~18:00, 공휴일 제외) / 팩스 ***-***-****  \\\\nⓒ Ministry of the Interior and Safety. All rights reserved.\\\\n\\\\n03171 서울특별시 종로구 세종대로 209 (세종로)  \\\\nCopyright ⓒ Ministry of the Interior and Safety. All rights reserved.\"}\\n\\n#사용자 질문:\\n온라인으로 민증 발급은 어떻게해?, 내 민증은 아래와 같아 000711-*******\\n\\n#답변:\\n', 'raw_input': '온라인으로 민증 발급은 어떻게해?, 내 민증은 아래와 같아 000711-*******', 'ability': '민원 행정', 'history': [HumanMessage(content='금정도서관 주차장 이용은 공짜야? 다음주 월요일에 방문하면 몇시까지해?', additional_kwargs={}, response_metadata={}), AIMessage(content='문의해주셔서 감사합니다.  \\n금정도서관 주차장은 **유료로 운영**되고 있습니다.  \\n다만, 입차 후 **최초 30분은 무료**이며, 이후에는 10분마다 100원이 부과되고, 1일 최대 주차요금은 4,700원입니다.\\n\\n그리고 **운영시간**에 대해 안내드리면,  \\n- 화요일~금요일: 09:00~22:00  \\n- 토요일·일요일: 09:00~17:00  \\n- 도서관 휴관일(월요일)에는 주차장이 **폐쇄**됩니다.\\n\\n즉, **다음 주 월요일에는 금정도서관 주차장 이용이 불가**합니다.  \\n다른 궁금한 사항 있으시면 언제든 문의해주세요.', additional_kwargs={}, response_metadata={})], 'context': ''}\n",
      "==== [PASS THROUGH] ====\n",
      "Final Answer: 문의해주셔서 감사합니다.\n",
      "\n",
      "현재 제공된 자료에는 온라인으로 주민등록증(민증) 발급 신청 방법에 대한 정확한 안내가 포함되어 있지 않습니다. 온라인 민증 발급 절차 및 준비서류 등의 상세 정보를 확인하시려면 관할 행정복지센터에 문의하시거나, 행정안전부 공식 홈페이지(www.mois.go.kr) 또는 정부24(www.gov.kr) 홈페이지를 참고하시길 권장드립니다.\n",
      "\n",
      "더 궁금한 점이 있으시면 정부민원안내콜센터(국번 없이 110)로 문의하셔도 친절히 안내해 드립니다. 감사합니다.\n"
     ]
    }
   ],
   "source": [
    "sample_user_q1 = \"온라인으로 민증 발급은 어떻게해?, 내 민증은 아래와 같아 000711-3333333\"\n",
    "sample_reps1 = manager.ask(sample_user_q1)"
   ]
  },
  {
   "cell_type": "code",
   "execution_count": 13,
   "id": "ac2041d9",
   "metadata": {},
   "outputs": [
    {
     "name": "stdout",
     "output_type": "stream",
     "text": [
      "user input :  온라인으로 민증 발급은 어떻게해?, 내 민증은 아래와 같아 000711-3333333\n",
      "test output :  문의해주셔서 감사합니다.\n",
      "\n",
      "현재 제공된 자료에는 온라인으로 주민등록증(민증) 발급 신청 방법에 대한 정확한 안내가 포함되어 있지 않습니다. 온라인 민증 발급 절차 및 준비서류 등의 상세 정보를 확인하시려면 관할 행정복지센터에 문의하시거나, 행정안전부 공식 홈페이지(www.mois.go.kr) 또는 정부24(www.gov.kr) 홈페이지를 참고하시길 권장드립니다.\n",
      "\n",
      "더 궁금한 점이 있으시면 정부민원안내콜센터(국번 없이 110)로 문의하셔도 친절히 안내해 드립니다. 감사합니다.\n"
     ]
    }
   ],
   "source": [
    "print(\"user input : \", sample_user_q1)\n",
    "print(\"test output : \", sample_reps1[\"generation\"])"
   ]
  },
  {
   "cell_type": "code",
   "execution_count": 18,
   "id": "76b000ef",
   "metadata": {},
   "outputs": [
    {
     "data": {
      "text/plain": [
       "'[행정 Work Pages]\\n- 민원, 행정·부패 신고, 국민제안 접수 및 진행조회 기능을 제공하는 국민권익위원회 포털 | https://www.epeople.go.kr/\\n- 행정청 처분에 대한 행정심판을 온라인으로 청구·진행조회 | https://www.simpan.go.kr/\\n- 여권·공증·영사확인 등 재외공관 민원 온라인 서비스(웹/모바일 앱 ‘365민원포털’ 연계) | https://consul.mofa.go.kr/'"
      ]
     },
     "execution_count": 18,
     "metadata": {},
     "output_type": "execute_result"
    }
   ],
   "source": [
    "sample_reps1[\"relavent_workpages\"]"
   ]
  },
  {
   "cell_type": "code",
   "execution_count": 19,
   "id": "9c3a9ddd",
   "metadata": {},
   "outputs": [],
   "source": [
    "top_k_departments = manager.chat.get_most_relevant_department(top_k=3)"
   ]
  },
  {
   "cell_type": "code",
   "execution_count": 21,
   "id": "69218502",
   "metadata": {},
   "outputs": [
    {
     "data": {
      "text/plain": [
       "[{'id': 'v', 'name': '교통행정과', 'phone': ''},\n",
       " {'id': 'd', 'name': '민원봉사과', 'phone': ''},\n",
       " {'id': 'g', 'name': '세무2과', 'phone': ''}]"
      ]
     },
     "execution_count": 21,
     "metadata": {},
     "output_type": "execute_result"
    }
   ],
   "source": [
    "top_k_departments"
   ]
  },
  {
   "cell_type": "code",
   "execution_count": 17,
   "id": "d73c11ee",
   "metadata": {},
   "outputs": [
    {
     "data": {
      "text/plain": [
       "(['금정도서관 주차장 이용은 공짜야? 다음주 월요일에 방문하면 몇시까지해?',\n",
       "  '온라인으로 민증 발급은 어떻게해?, 내 민증은 아래와 같아 000711-3333333'],\n",
       " ['문의해주셔서 감사합니다.  \\n금정도서관 주차장은 **유료로 운영**되고 있습니다.  \\n다만, 입차 후 **최초 30분은 무료**이며, 이후에는 10분마다 100원이 부과되고, 1일 최대 주차요금은 4,700원입니다.\\n\\n그리고 **운영시간**에 대해 안내드리면,  \\n- 화요일~금요일: 09:00~22:00  \\n- 토요일·일요일: 09:00~17:00  \\n- 도서관 휴관일(월요일)에는 주차장이 **폐쇄**됩니다.\\n\\n즉, **다음 주 월요일에는 금정도서관 주차장 이용이 불가**합니다.  \\n다른 궁금한 사항 있으시면 언제든 문의해주세요.',\n",
       "  '문의해주셔서 감사합니다.\\n\\n현재 제공된 자료에는 온라인으로 주민등록증(민증) 발급 신청 방법에 대한 정확한 안내가 포함되어 있지 않습니다. 온라인 민증 발급 절차 및 준비서류 등의 상세 정보를 확인하시려면 관할 행정복지센터에 문의하시거나, 행정안전부 공식 홈페이지(www.mois.go.kr) 또는 정부24(www.gov.kr) 홈페이지를 참고하시길 권장드립니다.\\n\\n더 궁금한 점이 있으시면 정부민원안내콜센터(국번 없이 110)로 문의하셔도 친절히 안내해 드립니다. 감사합니다.'])"
      ]
     },
     "execution_count": 17,
     "metadata": {},
     "output_type": "execute_result"
    }
   ],
   "source": [
    "manager.chat.get_chat_history()"
   ]
  }
 ],
 "metadata": {
  "kernelspec": {
   "display_name": "speak_note2",
   "language": "python",
   "name": "python3"
  },
  "language_info": {
   "codemirror_mode": {
    "name": "ipython",
    "version": 3
   },
   "file_extension": ".py",
   "mimetype": "text/x-python",
   "name": "python",
   "nbconvert_exporter": "python",
   "pygments_lexer": "ipython3",
   "version": "3.10.18"
  }
 },
 "nbformat": 4,
 "nbformat_minor": 5
}
