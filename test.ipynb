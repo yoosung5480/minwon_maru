{
 "cells": [
  {
   "cell_type": "code",
   "execution_count": null,
   "id": "a42f28d5",
   "metadata": {},
   "outputs": [
    {
     "name": "stdout",
     "output_type": "stream",
     "text": [
      "[경고] rawDocs와 parsedDocs가 일치하지 않습니다.\n"
     ]
    },
    {
     "ename": "RuntimeError",
     "evalue": "asyncio.run() cannot be called from a running event loop",
     "output_type": "error",
     "traceback": [
      "\u001b[0;31m---------------------------------------------------------------------------\u001b[0m",
      "\u001b[0;31mRuntimeError\u001b[0m                              Traceback (most recent call last)",
      "Cell \u001b[0;32mIn[9], line 14\u001b[0m\n\u001b[1;32m      1\u001b[0m \u001b[38;5;28;01mfrom\u001b[39;00m\u001b[38;5;250m \u001b[39m\u001b[38;5;21;01mminwon_maru\u001b[39;00m\u001b[38;5;21;01m.\u001b[39;00m\u001b[38;5;21;01mengine\u001b[39;00m\u001b[38;5;21;01m.\u001b[39;00m\u001b[38;5;21;01mchat\u001b[39;00m\u001b[38;5;250m \u001b[39m\u001b[38;5;28;01mimport\u001b[39;00m ChatManager, ProjPath\n\u001b[1;32m      4\u001b[0m paths \u001b[38;5;241m=\u001b[39m ProjPath(\n\u001b[1;32m      5\u001b[0m         data_root_str\u001b[38;5;241m=\u001b[39m\u001b[38;5;124m\"\u001b[39m\u001b[38;5;124m/Users/yujin/Desktop/코딩shit/python_projects/대한민국해커톤/민원마루ver1/datas\u001b[39m\u001b[38;5;124m\"\u001b[39m,\n\u001b[1;32m      6\u001b[0m         metadata_name\u001b[38;5;241m=\u001b[39m\u001b[38;5;124m\"\u001b[39m\u001b[38;5;124mmetadata.json\u001b[39m\u001b[38;5;124m\"\u001b[39m,\n\u001b[0;32m   (...)\u001b[0m\n\u001b[1;32m     11\u001b[0m         departemt_info_name\u001b[38;5;241m=\u001b[39m\u001b[38;5;124m\"\u001b[39m\u001b[38;5;124mdepartment_info.json\u001b[39m\u001b[38;5;124m\"\u001b[39m\n\u001b[1;32m     12\u001b[0m     )\n\u001b[0;32m---> 14\u001b[0m manager \u001b[38;5;241m=\u001b[39m \u001b[43mChatManager\u001b[49m\u001b[43m(\u001b[49m\u001b[43mpaths\u001b[49m\u001b[43m)\u001b[49m\n\u001b[1;32m     15\u001b[0m chat_id \u001b[38;5;241m=\u001b[39m manager\u001b[38;5;241m.\u001b[39mstart_chat()\n\u001b[1;32m     18\u001b[0m sample_user_q \u001b[38;5;241m=\u001b[39m \u001b[38;5;124m\"\u001b[39m\u001b[38;5;124m금정도서관 주차장 이용은 공짜야? 다음주 월요일에 방문하면 몇시까지해?\u001b[39m\u001b[38;5;124m\"\u001b[39m\n",
      "File \u001b[0;32m~/Desktop/코딩shit/python_projects/대한민국해커톤/민원마루ver1/ai_backend/minwon_maru/engine/chat.py:155\u001b[0m, in \u001b[0;36mChatManager.__init__\u001b[0;34m(self, paths)\u001b[0m\n\u001b[1;32m    153\u001b[0m \u001b[38;5;28mself\u001b[39m\u001b[38;5;241m.\u001b[39mserver_id \u001b[38;5;241m=\u001b[39m \u001b[38;5;28;01mNone\u001b[39;00m\n\u001b[1;32m    154\u001b[0m \u001b[38;5;28mself\u001b[39m\u001b[38;5;241m.\u001b[39mchat: Chat \u001b[38;5;241m|\u001b[39m \u001b[38;5;28;01mNone\u001b[39;00m \u001b[38;5;241m=\u001b[39m \u001b[38;5;28;01mNone\u001b[39;00m\n\u001b[0;32m--> 155\u001b[0m \u001b[38;5;28;43mself\u001b[39;49m\u001b[38;5;241;43m.\u001b[39;49m\u001b[43m_init_store\u001b[49m\u001b[43m(\u001b[49m\u001b[43m)\u001b[49m\n",
      "File \u001b[0;32m~/Desktop/코딩shit/python_projects/대한민국해커톤/민원마루ver1/ai_backend/minwon_maru/engine/chat.py:167\u001b[0m, in \u001b[0;36mChatManager._init_store\u001b[0;34m(self)\u001b[0m\n\u001b[1;32m    164\u001b[0m         \u001b[38;5;28mself\u001b[39m\u001b[38;5;241m.\u001b[39mserver_id \u001b[38;5;241m=\u001b[39m \u001b[38;5;28;01mNone\u001b[39;00m\n\u001b[1;32m    166\u001b[0m \u001b[38;5;28;01mif\u001b[39;00m \u001b[38;5;129;01mnot\u001b[39;00m ok \u001b[38;5;129;01mor\u001b[39;00m \u001b[38;5;28mself\u001b[39m\u001b[38;5;241m.\u001b[39mserver_id \u001b[38;5;129;01mis\u001b[39;00m \u001b[38;5;28;01mNone\u001b[39;00m:\n\u001b[0;32m--> 167\u001b[0m     \u001b[43masyncio\u001b[49m\u001b[38;5;241;43m.\u001b[39;49m\u001b[43mrun\u001b[49m\u001b[43m(\u001b[49m\n\u001b[1;32m    168\u001b[0m \u001b[43m        \u001b[49m\u001b[43mload_docs\u001b[49m\u001b[43m(\u001b[49m\n\u001b[1;32m    169\u001b[0m \u001b[43m            \u001b[49m\u001b[43mdata_root_str\u001b[49m\u001b[38;5;241;43m=\u001b[39;49m\u001b[38;5;28;43mstr\u001b[39;49m\u001b[43m(\u001b[49m\u001b[38;5;28;43mself\u001b[39;49m\u001b[38;5;241;43m.\u001b[39;49m\u001b[43mpaths\u001b[49m\u001b[38;5;241;43m.\u001b[39;49m\u001b[43mdata_root\u001b[49m\u001b[43m)\u001b[49m\u001b[43m,\u001b[49m\n\u001b[1;32m    170\u001b[0m \u001b[43m            \u001b[49m\u001b[43mrawDocs_name\u001b[49m\u001b[38;5;241;43m=\u001b[39;49m\u001b[38;5;28;43mself\u001b[39;49m\u001b[38;5;241;43m.\u001b[39;49m\u001b[43mpaths\u001b[49m\u001b[38;5;241;43m.\u001b[39;49m\u001b[43mraw_docs_dir\u001b[49m\u001b[43m,\u001b[49m\n\u001b[1;32m    171\u001b[0m \u001b[43m            \u001b[49m\u001b[43mparsed_docs_name\u001b[49m\u001b[38;5;241;43m=\u001b[39;49m\u001b[38;5;28;43mself\u001b[39;49m\u001b[38;5;241;43m.\u001b[39;49m\u001b[43mpaths\u001b[49m\u001b[38;5;241;43m.\u001b[39;49m\u001b[43mparsed_docs_dir\u001b[49m\u001b[43m,\u001b[49m\n\u001b[1;32m    172\u001b[0m \u001b[43m        \u001b[49m\u001b[43m)\u001b[49m\n\u001b[1;32m    173\u001b[0m \u001b[43m    \u001b[49m\u001b[43m)\u001b[49m\n\u001b[1;32m    174\u001b[0m     \u001b[38;5;28mself\u001b[39m\u001b[38;5;241m.\u001b[39mserver_id \u001b[38;5;241m=\u001b[39m datetime\u001b[38;5;241m.\u001b[39mnow()\u001b[38;5;241m.\u001b[39mstrftime(\u001b[38;5;124m\"\u001b[39m\u001b[38;5;124m%\u001b[39m\u001b[38;5;124mY\u001b[39m\u001b[38;5;124m%\u001b[39m\u001b[38;5;124mm\u001b[39m\u001b[38;5;132;01m%d\u001b[39;00m\u001b[38;5;124m%\u001b[39m\u001b[38;5;124mH\u001b[39m\u001b[38;5;124m%\u001b[39m\u001b[38;5;124mM\u001b[39m\u001b[38;5;124m%\u001b[39m\u001b[38;5;124mS\u001b[39m\u001b[38;5;124m\"\u001b[39m)\n\u001b[1;32m    175\u001b[0m     asyncio\u001b[38;5;241m.\u001b[39mrun(\n\u001b[1;32m    176\u001b[0m         generate_metadata(\n\u001b[1;32m    177\u001b[0m             server_id\u001b[38;5;241m=\u001b[39m\u001b[38;5;28mself\u001b[39m\u001b[38;5;241m.\u001b[39mserver_id,\n\u001b[0;32m   (...)\u001b[0m\n\u001b[1;32m    180\u001b[0m         )\n\u001b[1;32m    181\u001b[0m     )\n",
      "File \u001b[0;32m~/anaconda3/envs/speak_note2/lib/python3.10/asyncio/runners.py:33\u001b[0m, in \u001b[0;36mrun\u001b[0;34m(main, debug)\u001b[0m\n\u001b[1;32m      9\u001b[0m \u001b[38;5;250m\u001b[39m\u001b[38;5;124;03m\"\"\"Execute the coroutine and return the result.\u001b[39;00m\n\u001b[1;32m     10\u001b[0m \n\u001b[1;32m     11\u001b[0m \u001b[38;5;124;03mThis function runs the passed coroutine, taking care of\u001b[39;00m\n\u001b[0;32m   (...)\u001b[0m\n\u001b[1;32m     30\u001b[0m \u001b[38;5;124;03m    asyncio.run(main())\u001b[39;00m\n\u001b[1;32m     31\u001b[0m \u001b[38;5;124;03m\"\"\"\u001b[39;00m\n\u001b[1;32m     32\u001b[0m \u001b[38;5;28;01mif\u001b[39;00m events\u001b[38;5;241m.\u001b[39m_get_running_loop() \u001b[38;5;129;01mis\u001b[39;00m \u001b[38;5;129;01mnot\u001b[39;00m \u001b[38;5;28;01mNone\u001b[39;00m:\n\u001b[0;32m---> 33\u001b[0m     \u001b[38;5;28;01mraise\u001b[39;00m \u001b[38;5;167;01mRuntimeError\u001b[39;00m(\n\u001b[1;32m     34\u001b[0m         \u001b[38;5;124m\"\u001b[39m\u001b[38;5;124masyncio.run() cannot be called from a running event loop\u001b[39m\u001b[38;5;124m\"\u001b[39m)\n\u001b[1;32m     36\u001b[0m \u001b[38;5;28;01mif\u001b[39;00m \u001b[38;5;129;01mnot\u001b[39;00m coroutines\u001b[38;5;241m.\u001b[39miscoroutine(main):\n\u001b[1;32m     37\u001b[0m     \u001b[38;5;28;01mraise\u001b[39;00m \u001b[38;5;167;01mValueError\u001b[39;00m(\u001b[38;5;124m\"\u001b[39m\u001b[38;5;124ma coroutine was expected, got \u001b[39m\u001b[38;5;132;01m{!r}\u001b[39;00m\u001b[38;5;124m\"\u001b[39m\u001b[38;5;241m.\u001b[39mformat(main))\n",
      "\u001b[0;31mRuntimeError\u001b[0m: asyncio.run() cannot be called from a running event loop"
     ]
    }
   ],
   "source": [
    "from minwon_maru.engine.chat import ChatManager, ProjPath\n",
    "\n",
    "\n",
    "paths = ProjPath(\n",
    "        data_root_str=\"/Users/yujin/Desktop/코딩shit/python_projects/대한민국해커톤/민원마루ver1/datas\",\n",
    "        metadata_name=\"metadata.json\",\n",
    "        raw_docs_dir=\"rawDocs\",\n",
    "        parsed_docs_dir=\"parsedDocs\",\n",
    "        workpages_name=\"work_page_info.json\",\n",
    "        reference_root_str=\"reference\",\n",
    "        departemt_info_name=\"department_info.json\"\n",
    "    )\n",
    "\n",
    "manager = ChatManager(paths)\n",
    "chat_id = manager.start_chat()\n",
    "\n",
    "\n",
    "sample_user_q = \"금정도서관 주차장 이용은 공짜야? 다음주 월요일에 방문하면 몇시까지해?\"\n",
    "sample_reps = manager.ask(sample_user_q)\n"
   ]
  },
  {
   "cell_type": "code",
   "execution_count": 2,
   "id": "82d2fe1d",
   "metadata": {},
   "outputs": [
    {
     "name": "stdout",
     "output_type": "stream",
     "text": [
      "user input :  금정도서관 주차장 이용은 공짜야? 다음주 월요일에 방문하면 몇시까지해?\n",
      "test output :  안녕하세요. 금정도서관 주차장 이용 안내드리겠습니다.\n",
      "\n",
      "1. **주차장 이용이 무료인지 여부**\n",
      "- 금정도서관 주차장은 **유료로 운영**됩니다.  \n",
      "- 다만, 입차 후 **최초 30분은 무료**이며, 이후에는 10분마다 100원이 부과되고, 1일 최대 요금은 4,700원을 넘지 않습니다.  \n",
      "- 특별한 구청장의 결정(주요행사 등)이나, 주차요금 감면 대상(장애인 등) 차량이 아닌 경우 일반적으로 무료가 아닙니다.\n",
      "\n",
      "2. **다음 주 월요일 운영 시간**\n",
      "- 금정도서관 주차장 운영시간은 **화요일~금요일 09:00~22:00**, **토·일요일 09:00~17:00**입니다.\n",
      "- 관련 규정에 따르면, **월요일은 도서관 휴관일**로 주차장이 **폐쇄**됩니다. 즉, 다음주 월요일에는 주차장 이용이 불가능합니다.\n",
      "\n",
      "**정리**\n",
      "- 주차장 이용은 무료가 아니고,  \n",
      "- 다음주 월요일에는 주차장 운영을 하지 않습니다.  \n",
      "- 방문 계획에 참고 부탁드립니다.\n",
      "\n",
      "더 궁금한 점 있으시면 말씀해 주세요!\n"
     ]
    }
   ],
   "source": [
    "print(\"user input : \", sample_user_q)\n",
    "print(\"test output : \", sample_reps[\"generation\"])"
   ]
  },
  {
   "cell_type": "code",
   "execution_count": 3,
   "id": "74c1312e",
   "metadata": {},
   "outputs": [
    {
     "name": "stdout",
     "output_type": "stream",
     "text": [
      "raw_inputs :  {'ability': '민원 행정', 'input': '온라인으로 민증 발급은 어떻게해?, 내 민증은 아래와 같아 000711-3333333'}\n",
      "masked :  {'ability': '민원 행정', 'input': '온라인으로 민증 발급은 어떻게해?, 내 민증은 아래와 같아 000711-*******'}\n",
      "\n",
      "==== [CHECK DOCUMENT RELEVANCE TO QUESTION] ====\n",
      "\n",
      "==== [GRADE: DOCUMENT NOT RELEVANT] ====\n",
      "==== [GRADE: DOCUMENT NOT RELEVANT] ====\n",
      "==== [GRADE: DOCUMENT NOT RELEVANT] ====\n",
      "==== [GRADE: DOCUMENT NOT RELEVANT] ====\n",
      "==== [GRADE: DOCUMENT NOT RELEVANT] ====\n",
      "==== [GRADE: DOCUMENT NOT RELEVANT] ====\n",
      "==== [GRADE: DOCUMENT NOT RELEVANT] ====\n",
      "==== [GRADE: DOCUMENT NOT RELEVANT] ====\n",
      "==== [GRADE: NO DOCUMENTS] ====\n",
      "==== [ASSESS GRADED DOCUMENTS] ====\n",
      "\n",
      "==== [WEB SEARCH] ====\n",
      "\n",
      "web search result : \n",
      " {'url': 'https://www.mois.go.kr/video/bbs/type019/commonSelectBoardArticle.do;jsessionid=3n4fwKn5COrlTA2cMdoIH0xX.node10?bbsId=BBSMSTR_000000000255&nttId=116337&searchCode1=', 'title': '모바일 주민등록증 전국 발급···28일부터 온라인 신청 - 행정안전부', 'content': 'Missing: 아래와 같아 000711-', 'score': 0.6796259, 'raw_content': None}\n",
      "raw_inputs :  {'input': \"당신은 한국 지방자치단체의 민원 상담을 돕는 스마트 어시스턴트입니다.\\n현재 제공된 행정 문서에서는 사용자의 질문에 대한 직접적인 답을 찾지 못했습니다.\\n따라서 외부 검색 결과(웹 정보)를 참고하여 민원인에게 도움이 될 수 있는 답변을 제공합니다.\\n\\n아래는 검색을 통해 수집한 컨텍스트이며, 사용자의 질문은 해당 주제에 대한 안내를 요청한 것입니다.\\n당신의 역할은 이 컨텍스트를 기반으로 **명확하고 신뢰성 있게 정리된 답변**을 제공하는 것입니다.\\n가능하다면 공공기관·지자체 공식 사이트, 행정절차, 연락처 등 신뢰할 수 있는 정보를 강조하세요.  \\n\\n만약 컨텍스트에 해당 정보가 전혀 없거나 불확실하다면, \\n'현재 제공된 자료에는 정확한 답변이 없습니다. 관련 부서나 공식 홈페이지를 통해 확인하시길 권장드립니다.'라고 정직하게 답하세요.\\n\\n최종 출력은 민원 상담원답게 공손한 한국어 문장으로 작성하세요.\\n\\n#검색 컨텍스트:\\n{'url': 'https://www.mois.go.kr/video/bbs/type019/commonSelectBoardArticle.do;jsessionid=3n4fwKn5COrlTA2cMdoIH0xX.node10?bbsId=BBSMSTR_000000000255&nttId=116337&searchCode1=', 'title': '모바일 주민등록증 전국 발급···28일부터 온라인 신청 - 행정안전부', 'content': 'Missing: 아래와 같아 000711-', 'score': 0.6796259, 'raw_content': None}\\n\\n#사용자 질문:\\n온라인으로 민증 발급은 어떻게해?, 내 민증은 아래와 같아 000711-*******\\n\\n#답변:\\n\", 'raw_input': '온라인으로 민증 발급은 어떻게해?, 내 민증은 아래와 같아 000711-*******', 'ability': '민원 행정', 'history': [HumanMessage(content='금정도서관 주차장 이용은 공짜야? 다음주 월요일에 방문하면 몇시까지해?', additional_kwargs={}, response_metadata={}), AIMessage(content='안녕하세요. 금정도서관 주차장 이용 안내드리겠습니다.\\n\\n1. **주차장 이용이 무료인지 여부**\\n- 금정도서관 주차장은 **유료로 운영**됩니다.  \\n- 다만, 입차 후 **최초 30분은 무료**이며, 이후에는 10분마다 100원이 부과되고, 1일 최대 요금은 4,700원을 넘지 않습니다.  \\n- 특별한 구청장의 결정(주요행사 등)이나, 주차요금 감면 대상(장애인 등) 차량이 아닌 경우 일반적으로 무료가 아닙니다.\\n\\n2. **다음 주 월요일 운영 시간**\\n- 금정도서관 주차장 운영시간은 **화요일~금요일 09:00~22:00**, **토·일요일 09:00~17:00**입니다.\\n- 관련 규정에 따르면, **월요일은 도서관 휴관일**로 주차장이 **폐쇄**됩니다. 즉, 다음주 월요일에는 주차장 이용이 불가능합니다.\\n\\n**정리**\\n- 주차장 이용은 무료가 아니고,  \\n- 다음주 월요일에는 주차장 운영을 하지 않습니다.  \\n- 방문 계획에 참고 부탁드립니다.\\n\\n더 궁금한 점 있으시면 말씀해 주세요!', additional_kwargs={}, response_metadata={})], 'context': ''}\n",
      "masked :  {'input': \"당신은 한국 지방자치단체의 민원 상담을 돕는 스마트 어시스턴트입니다.\\n현재 제공된 행정 문서에서는 사용자의 질문에 대한 직접적인 답을 찾지 못했습니다.\\n따라서 외부 검색 결과(웹 정보)를 참고하여 민원인에게 도움이 될 수 있는 답변을 제공합니다.\\n\\n아래는 검색을 통해 수집한 컨텍스트이며, 사용자의 질문은 해당 주제에 대한 안내를 요청한 것입니다.\\n당신의 역할은 이 컨텍스트를 기반으로 **명확하고 신뢰성 있게 정리된 답변**을 제공하는 것입니다.\\n가능하다면 공공기관·지자체 공식 사이트, 행정절차, 연락처 등 신뢰할 수 있는 정보를 강조하세요.  \\n\\n만약 컨텍스트에 해당 정보가 전혀 없거나 불확실하다면, \\n'현재 제공된 자료에는 정확한 답변이 없습니다. 관련 부서나 공식 홈페이지를 통해 확인하시길 권장드립니다.'라고 정직하게 답하세요.\\n\\n최종 출력은 민원 상담원답게 공손한 한국어 문장으로 작성하세요.\\n\\n#검색 컨텍스트:\\n{'url': 'https://www.mois.go.kr/video/bbs/type019/commonSelectBoardArticle.do;jsessionid=3n4fwKn5COrlTA2cMdoIH0xX.node10?bbsId=BBSMSTR_***********5&nttId=116337&searchCode1=', 'title': '모바일 주민등록증 전국 발급···28일부터 온라인 신청 - 행정안전부', 'content': 'Missing: 아래와 같아 000711-', 'score': 0.6796259, 'raw_content': None}\\n\\n#사용자 질문:\\n온라인으로 민증 발급은 어떻게해?, 내 민증은 아래와 같아 000711-*******\\n\\n#답변:\\n\", 'raw_input': '온라인으로 민증 발급은 어떻게해?, 내 민증은 아래와 같아 000711-*******', 'ability': '민원 행정', 'history': [HumanMessage(content='금정도서관 주차장 이용은 공짜야? 다음주 월요일에 방문하면 몇시까지해?', additional_kwargs={}, response_metadata={}), AIMessage(content='안녕하세요. 금정도서관 주차장 이용 안내드리겠습니다.\\n\\n1. **주차장 이용이 무료인지 여부**\\n- 금정도서관 주차장은 **유료로 운영**됩니다.  \\n- 다만, 입차 후 **최초 30분은 무료**이며, 이후에는 10분마다 100원이 부과되고, 1일 최대 요금은 4,700원을 넘지 않습니다.  \\n- 특별한 구청장의 결정(주요행사 등)이나, 주차요금 감면 대상(장애인 등) 차량이 아닌 경우 일반적으로 무료가 아닙니다.\\n\\n2. **다음 주 월요일 운영 시간**\\n- 금정도서관 주차장 운영시간은 **화요일~금요일 09:00~22:00**, **토·일요일 09:00~17:00**입니다.\\n- 관련 규정에 따르면, **월요일은 도서관 휴관일**로 주차장이 **폐쇄**됩니다. 즉, 다음주 월요일에는 주차장 이용이 불가능합니다.\\n\\n**정리**\\n- 주차장 이용은 무료가 아니고,  \\n- 다음주 월요일에는 주차장 운영을 하지 않습니다.  \\n- 방문 계획에 참고 부탁드립니다.\\n\\n더 궁금한 점 있으시면 말씀해 주세요!', additional_kwargs={}, response_metadata={})], 'context': ''}\n",
      "==== [PASS THROUGH] ====\n",
      "Final Answer: 안녕하세요. 온라인으로 주민등록증(민증) 발급에 대해 안내드리겠습니다.\n",
      "\n",
      "현재 모바일 주민등록증 발급이 전국적으로 시행되고 있으며, 온라인으로 신청이 가능합니다. 하지만 온라인 주민등록증 신청을 위해서는 본인 인증 등 절차가 필요하며, 관련 개인정보(주민등록번호 등)는 안전하게 보호해야 하므로 문의 시 번호 전체 입력은 삼가주시길 바랍니다.\n",
      "\n",
      "**온라인 신청 방법**\n",
      "1. [정부24](https://www.gov.kr/) 홈페이지 또는 모바일 앱에 접속합니다.\n",
      "2. ‘주민등록증 재발급’ 또는 ‘모바일 주민등록증 발급’ 메뉴를 선택합니다.\n",
      "3. 본인 인증(공동인증서 등)을 진행합니다.\n",
      "4. 안내에 따라 신청 절차를 완료합니다.\n",
      "\n",
      "**주의사항**\n",
      "- 최초 발급 또는 사진 변경 등 사유에 따라 방문이 필요할 수 있으니 신청 전에 안내 사항을 꼭 확인하세요.\n",
      "- 신청 후에는 관할 행정복지센터(동주민센터)에서 주민등록증을 직접 수령해야 할 수도 있습니다.\n",
      "\n",
      "**추가 문의**\n",
      "해당 서비스나 절차에 관한 자세한 안내가 필요하실 경우,  \n",
      "행정안전부 주민센터(☎ 110) 또는 [정부24 고객센터(☎ 1588-2188)]로 연락하시면 친절하게 상담받으실 수 있습니다.\n",
      "\n",
      "추가로 궁금하신 점이 있으시면 언제든 문의해 주세요. 감사합니다.\n"
     ]
    }
   ],
   "source": [
    "sample_user_q1 = \"온라인으로 민증 발급은 어떻게해?, 내 민증은 아래와 같아 000711-3333333\"\n",
    "sample_reps1 = manager.ask(sample_user_q1)"
   ]
  },
  {
   "cell_type": "code",
   "execution_count": 4,
   "id": "ac2041d9",
   "metadata": {},
   "outputs": [
    {
     "name": "stdout",
     "output_type": "stream",
     "text": [
      "user input :  온라인으로 민증 발급은 어떻게해?, 내 민증은 아래와 같아 000711-3333333\n",
      "test output :  안녕하세요. 온라인으로 주민등록증(민증) 발급에 대해 안내드리겠습니다.\n",
      "\n",
      "현재 모바일 주민등록증 발급이 전국적으로 시행되고 있으며, 온라인으로 신청이 가능합니다. 하지만 온라인 주민등록증 신청을 위해서는 본인 인증 등 절차가 필요하며, 관련 개인정보(주민등록번호 등)는 안전하게 보호해야 하므로 문의 시 번호 전체 입력은 삼가주시길 바랍니다.\n",
      "\n",
      "**온라인 신청 방법**\n",
      "1. [정부24](https://www.gov.kr/) 홈페이지 또는 모바일 앱에 접속합니다.\n",
      "2. ‘주민등록증 재발급’ 또는 ‘모바일 주민등록증 발급’ 메뉴를 선택합니다.\n",
      "3. 본인 인증(공동인증서 등)을 진행합니다.\n",
      "4. 안내에 따라 신청 절차를 완료합니다.\n",
      "\n",
      "**주의사항**\n",
      "- 최초 발급 또는 사진 변경 등 사유에 따라 방문이 필요할 수 있으니 신청 전에 안내 사항을 꼭 확인하세요.\n",
      "- 신청 후에는 관할 행정복지센터(동주민센터)에서 주민등록증을 직접 수령해야 할 수도 있습니다.\n",
      "\n",
      "**추가 문의**\n",
      "해당 서비스나 절차에 관한 자세한 안내가 필요하실 경우,  \n",
      "행정안전부 주민센터(☎ 110) 또는 [정부24 고객센터(☎ 1588-2188)]로 연락하시면 친절하게 상담받으실 수 있습니다.\n",
      "\n",
      "추가로 궁금하신 점이 있으시면 언제든 문의해 주세요. 감사합니다.\n"
     ]
    }
   ],
   "source": [
    "print(\"user input : \", sample_user_q1)\n",
    "print(\"test output : \", sample_reps1[\"generation\"])"
   ]
  },
  {
   "cell_type": "code",
   "execution_count": 5,
   "id": "76b000ef",
   "metadata": {},
   "outputs": [
    {
     "data": {
      "text/plain": [
       "'[행정 Work Pages]\\n- 민원, 행정·부패 신고, 국민제안 접수 및 진행조회 기능을 제공하는 국민권익위원회 포털 | https://www.epeople.go.kr/\\n- 행정청 처분에 대한 행정심판을 온라인으로 청구·진행조회 | https://www.simpan.go.kr/\\n- 여권·공증·영사확인 등 재외공관 민원 온라인 서비스(웹/모바일 앱 ‘365민원포털’ 연계) | https://consul.mofa.go.kr/'"
      ]
     },
     "execution_count": 5,
     "metadata": {},
     "output_type": "execute_result"
    }
   ],
   "source": [
    "sample_reps1[\"relavent_workpages\"]"
   ]
  },
  {
   "cell_type": "code",
   "execution_count": 6,
   "id": "9c3a9ddd",
   "metadata": {},
   "outputs": [],
   "source": [
    "top_k_departments = manager.chat.get_most_relevant_department(top_k=3)"
   ]
  },
  {
   "cell_type": "code",
   "execution_count": 7,
   "id": "69218502",
   "metadata": {},
   "outputs": [
    {
     "data": {
      "text/plain": [
       "[{'id': 'v', 'name': '교통행정과', 'phone': ''},\n",
       " {'id': 'd', 'name': '민원봉사과', 'phone': ''},\n",
       " {'id': 'g', 'name': '세무2과', 'phone': ''}]"
      ]
     },
     "execution_count": 7,
     "metadata": {},
     "output_type": "execute_result"
    }
   ],
   "source": [
    "top_k_departments"
   ]
  },
  {
   "cell_type": "code",
   "execution_count": 8,
   "id": "d73c11ee",
   "metadata": {},
   "outputs": [
    {
     "data": {
      "text/plain": [
       "(['금정도서관 주차장 이용은 공짜야? 다음주 월요일에 방문하면 몇시까지해?',\n",
       "  '온라인으로 민증 발급은 어떻게해?, 내 민증은 아래와 같아 000711-3333333'],\n",
       " ['안녕하세요. 금정도서관 주차장 이용 안내드리겠습니다.\\n\\n1. **주차장 이용이 무료인지 여부**\\n- 금정도서관 주차장은 **유료로 운영**됩니다.  \\n- 다만, 입차 후 **최초 30분은 무료**이며, 이후에는 10분마다 100원이 부과되고, 1일 최대 요금은 4,700원을 넘지 않습니다.  \\n- 특별한 구청장의 결정(주요행사 등)이나, 주차요금 감면 대상(장애인 등) 차량이 아닌 경우 일반적으로 무료가 아닙니다.\\n\\n2. **다음 주 월요일 운영 시간**\\n- 금정도서관 주차장 운영시간은 **화요일~금요일 09:00~22:00**, **토·일요일 09:00~17:00**입니다.\\n- 관련 규정에 따르면, **월요일은 도서관 휴관일**로 주차장이 **폐쇄**됩니다. 즉, 다음주 월요일에는 주차장 이용이 불가능합니다.\\n\\n**정리**\\n- 주차장 이용은 무료가 아니고,  \\n- 다음주 월요일에는 주차장 운영을 하지 않습니다.  \\n- 방문 계획에 참고 부탁드립니다.\\n\\n더 궁금한 점 있으시면 말씀해 주세요!',\n",
       "  '안녕하세요. 온라인으로 주민등록증(민증) 발급에 대해 안내드리겠습니다.\\n\\n현재 모바일 주민등록증 발급이 전국적으로 시행되고 있으며, 온라인으로 신청이 가능합니다. 하지만 온라인 주민등록증 신청을 위해서는 본인 인증 등 절차가 필요하며, 관련 개인정보(주민등록번호 등)는 안전하게 보호해야 하므로 문의 시 번호 전체 입력은 삼가주시길 바랍니다.\\n\\n**온라인 신청 방법**\\n1. [정부24](https://www.gov.kr/) 홈페이지 또는 모바일 앱에 접속합니다.\\n2. ‘주민등록증 재발급’ 또는 ‘모바일 주민등록증 발급’ 메뉴를 선택합니다.\\n3. 본인 인증(공동인증서 등)을 진행합니다.\\n4. 안내에 따라 신청 절차를 완료합니다.\\n\\n**주의사항**\\n- 최초 발급 또는 사진 변경 등 사유에 따라 방문이 필요할 수 있으니 신청 전에 안내 사항을 꼭 확인하세요.\\n- 신청 후에는 관할 행정복지센터(동주민센터)에서 주민등록증을 직접 수령해야 할 수도 있습니다.\\n\\n**추가 문의**\\n해당 서비스나 절차에 관한 자세한 안내가 필요하실 경우,  \\n행정안전부 주민센터(☎ 110) 또는 [정부24 고객센터(☎ 1588-2188)]로 연락하시면 친절하게 상담받으실 수 있습니다.\\n\\n추가로 궁금하신 점이 있으시면 언제든 문의해 주세요. 감사합니다.'])"
      ]
     },
     "execution_count": 8,
     "metadata": {},
     "output_type": "execute_result"
    }
   ],
   "source": [
    "manager.chat.get_chat_history()"
   ]
  }
 ],
 "metadata": {
  "kernelspec": {
   "display_name": "speak_note2",
   "language": "python",
   "name": "python3"
  },
  "language_info": {
   "codemirror_mode": {
    "name": "ipython",
    "version": 3
   },
   "file_extension": ".py",
   "mimetype": "text/x-python",
   "name": "python",
   "nbconvert_exporter": "python",
   "pygments_lexer": "ipython3",
   "version": "3.10.18"
  }
 },
 "nbformat": 4,
 "nbformat_minor": 5
}
