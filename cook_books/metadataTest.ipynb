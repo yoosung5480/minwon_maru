{
 "cells": [
  {
   "cell_type": "code",
   "execution_count": 61,
   "id": "35124478",
   "metadata": {},
   "outputs": [],
   "source": [
    "from speak_note.tools.llms import llm_list\n",
    "from speak_note.tools.context import retriever_configs, context_configs, Context\n",
    "from speak_note.work_flows import basic_RAG\n",
    "from speak_note.tools.myPDFparser import upstageParser2Document\n",
    "import speak_note.prompts.prompt as  prompt\n",
    "\n",
    "import asyncio"
   ]
  },
  {
   "cell_type": "markdown",
   "id": "798966de",
   "metadata": {},
   "source": [
    "# 서버 첫 INIT\n",
    "### 해야할일\n",
    "1. 문서pdf -> 문서json\n",
    "2. 메타데이터에 {문서요약 : 문서json경로} append하기."
   ]
  },
  {
   "cell_type": "markdown",
   "id": "22f7a469",
   "metadata": {},
   "source": [
    "## meta_data.json 생성"
   ]
  },
  {
   "cell_type": "markdown",
   "id": "c9b5a608",
   "metadata": {},
   "source": [
    "### ㅋㅋ"
   ]
  },
  {
   "cell_type": "code",
   "execution_count": null,
   "id": "0e9a85f2",
   "metadata": {},
   "outputs": [],
   "source": [
    "from langchain.prompts import PromptTemplate\n",
    "from langchain_core.output_parsers import StrOutputParser\n",
    "\n",
    "prompt_to_summarize = \"\"\"\n",
    "    당신은 행정문서를 한줄 요약해주는 어시스턴트입니다.\n",
    "    문서의 정보를 반영한 최대한 짧고 간결한 문서 요약내용을 제시하세요.\n",
    "    이모티콘, 기호 사용금지.\n",
    "\n",
    "    #User Input (요약 요청 내용):\n",
    "    {question}\n",
    "\n",
    "    #요약 내용:\n",
    "    \"\"\"\n",
    "\n",
    "basic_prompt_template = PromptTemplate.from_template(prompt_to_summarize)\n",
    "llm = llm_list[\"solar-pro2\"]\n",
    "\n",
    "chain = (\n",
    "    basic_prompt_template\n",
    "    | llm\n",
    "    | StrOutputParser()\n",
    ")"
   ]
  },
  {
   "cell_type": "code",
   "execution_count": 63,
   "id": "68b15e9c",
   "metadata": {},
   "outputs": [],
   "source": [
    "import os\n",
    "from pathlib import Path\n",
    "import asyncio\n",
    "import json\n",
    "\n",
    "# 경로 준비\n",
    "data_root_str = \"/Users/yujin/Desktop/코딩shit/python_projects/대한민국해커톤/민원마루ver1/datas\"\n",
    "rawDocs_name  = \"rawDocs\"\n",
    "parsed_docs_name = \"parsedDos\"\n",
    "\n",
    "data_root = Path(data_root_str)\n",
    "raw_docs_root = data_root.joinpath(rawDocs_name)\n",
    "parsed_docs_root = data_root.joinpath(parsed_docs_name)\n",
    "\n",
    "json_paths = [f for f in parsed_docs_root.rglob(\"*.json\") if f.is_file()]\n",
    "docs_num = len(json_paths)"
   ]
  },
  {
   "cell_type": "code",
   "execution_count": 64,
   "id": "d074544a",
   "metadata": {},
   "outputs": [
    {
     "name": "stdout",
     "output_type": "stream",
     "text": [
      "/Users/yujin/Desktop/코딩shit/python_projects/대한민국해커톤/민원마루ver1/datas/parsedDos/sample_AI_Brief.json\n"
     ]
    }
   ],
   "source": [
    "from speak_note.tools.json_tool import load_json\n",
    "\n",
    "docs = [(json_paths[i], load_json(json_path)) for i, json_path in enumerate(json_paths)]\n",
    "print(docs[0][0])\n"
   ]
  },
  {
   "cell_type": "code",
   "execution_count": null,
   "id": "88fc1777",
   "metadata": {},
   "outputs": [
    {
     "name": "stdout",
     "output_type": "stream",
     "text": [
      "/Users/yujin/Desktop/코딩shit/python_projects/대한민국해커톤/민원마루ver1/datas/parsedDos/sample_AI_Brief.json\n"
     ]
    }
   ],
   "source": [
    "def get_str_from_doc(doc_contents):\n",
    "    page_content = \"\"\n",
    "    for idx in range(len(doc_contents)):\n",
    "        contents = doc_contents[idx].to_json()[\"kwargs\"][\"page_content\"]\n",
    "        page_content = page_content + \"\\n\" + contents\n",
    "    return page_content\n",
    "\n",
    "# doc_path = docs[0][0]\n",
    "# doc_content = get_str_from_doc(docs[0][1])\n",
    "# print(doc_path)"
   ]
  },
  {
   "cell_type": "code",
   "execution_count": 66,
   "id": "038ee247",
   "metadata": {},
   "outputs": [],
   "source": [
    "doc_contents = [get_str_from_doc(doc) for doc_path, doc in docs]"
   ]
  },
  {
   "cell_type": "code",
   "execution_count": 67,
   "id": "6815ecea",
   "metadata": {},
   "outputs": [],
   "source": [
    "task = [chain.ainvoke(doc_content) for doc_content in doc_contents]\n",
    "results = await asyncio.gather(*task)"
   ]
  },
  {
   "cell_type": "code",
   "execution_count": 68,
   "id": "fd945c14",
   "metadata": {},
   "outputs": [
    {
     "data": {
      "text/plain": [
       "(\"1. **정책/법제**  \\n미국, '안전하고 신뢰할 수 있는 AI 개발 및 사용' 행정명령 발표(2023.10.30). AI 안전·보안 기준 강화, 개인정보 보호, 형평성·시민권 향상, 소비자 보호, 노동자 지원, 혁신 촉진, 국제협력 등을 주요 내용으로 함. G7, '히로시마 AI 프로세스' 통해 첨단 AI 시스템 위험 관리 국제 행동강령 합의(2023.10.30). 영국 주최 AI 안전성 정상회의에서 28개국, '블레츨리 선언' 채택(2023.11.01-02). 첨단 AI 안전 테스트 협력 및 투명성 강화 합의.  \\n\\n2. **기업/산업**  \\n첨단 AI 개발 기업은 AI 시스템 안전성 평가·공유 의무 부과(미국). G7 행동강령에 따라 AI 수명주기 전반 위험 평가·완화, 보안 통제, 콘텐츠 출처 확인 등 이행 권고.  \\n\\n3. **기술/연구**  \\n미국, 국가AI연구자원(NAIRR) 구축으로 AI 연구 인프라 지원 확대. 영국 AI 안전 연구소 주도 첨단 AI 안전 테스트 계획 발표. '과학의 현황' 보고서 작성으로 첨단 AI 위험 평가 및 연구 우선순위 제시.  \\n\\n4. **인력/교육**  \\n미국, AI 분야 전문가 유치를 위한 비자 절차 간소화. G7 행동강령에서 산업·정부·학계 협력 및 정보공유 강조. 영국은 공공 부문 역량 구축 협력 계획 수립.\",\n",
       " PosixPath('/Users/yujin/Desktop/코딩shit/python_projects/대한민국해커톤/민원마루ver1/datas/parsedDos/sample_AI_Brief.json'))"
      ]
     },
     "execution_count": 68,
     "metadata": {},
     "output_type": "execute_result"
    }
   ],
   "source": [
    "summarize_path_tuple = [(results[i], json_paths[i]) for i in range(docs_num)]\n",
    "summarize_path_tuple[0]"
   ]
  },
  {
   "cell_type": "code",
   "execution_count": null,
   "id": "675299d9",
   "metadata": {},
   "outputs": [],
   "source": [
    "server_id = \"abc\"\n",
    "\n",
    "''' \n",
    "{\n",
    "    DocNum:3,\n",
    "    serverID:as2f,\n",
    "    Docs : {\n",
    "        {\"문서1 요약 내용\" : minwon_maru/datas/rawDocs/문서1.json }, # 문서1의 위치\n",
    "        {\"문서2 요약 내용\" : minwon_maru/datas/rawDocs/문서2.json },\n",
    "        {\"문서3 요약 내용\" : minwon_maru/datas/rawDocs/문서3.json },\n",
    "    }\n",
    "\n",
    "\n",
    "'''"
   ]
  },
  {
   "cell_type": "code",
   "execution_count": 82,
   "id": "f8a17b08",
   "metadata": {},
   "outputs": [],
   "source": [
    "import asyncio\n",
    "import json\n",
    "from pathlib import Path\n",
    "from langchain.prompts import PromptTemplate\n",
    "from langchain_core.output_parsers import StrOutputParser\n",
    "\n",
    "from speak_note.tools.json_tool import load_json\n",
    "\n",
    "prompt_to_summarize = \"\"\"   \n",
    "    당신은 행정문서를 한줄 요약해주는 어시스턴트입니다.\n",
    "    문서의 정보를 반영한 최대한 짧고 간결한 문서 요약내용을 제시하세요.\n",
    "    이모티콘, 기호 사용금지.\n",
    "\n",
    "    #User Input (요약 요청 내용):\n",
    "    {question}\n",
    "\n",
    "    #요약 내용:\n",
    "    \"\"\"\n",
    "\n",
    "def get_str_from_doc(doc_contents):\n",
    "    \"\"\"여러 Document 객체 리스트에서 page_content만 합쳐서 반환\"\"\"\n",
    "    page_content = \"\"\n",
    "    for idx in range(len(doc_contents)):\n",
    "        contents = doc_contents[idx].to_json()[\"kwargs\"][\"page_content\"]\n",
    "        page_content = page_content + \"\\n\" + contents\n",
    "    return page_content\n",
    "\n",
    "\n",
    "async def generate_metadata(\n",
    "    server_id: str,\n",
    "    data_root_str: str = \"/Users/yujin/Desktop/코딩shit/python_projects/대한민국해커톤/민원마루ver1/datas\",\n",
    "    parsed_docs_name: str = \"parsedDos\",\n",
    "    llm = llm_list[\"solar-pro2\"],\n",
    "    prompt_to_summarize: str = prompt_to_summarize,\n",
    ") -> dict:\n",
    "    \"\"\"\n",
    "    주어진 파라미터에 따라 문서를 읽고 요약 후 metadata 생성.\n",
    "\n",
    "    Args:\n",
    "        server_id: 서버 식별자\n",
    "        data_root_str: 데이터 루트 경로\n",
    "        parsed_docs_name: JSON이 저장된 폴더 이름\n",
    "        llm: 사용할 LLM (예: llm_list[\"solar-pro2\"])\n",
    "        prompt_to_summarize: 요약용 프롬프트 문자열\n",
    "\n",
    "    Returns:\n",
    "        metadata 딕셔너리\n",
    "    \"\"\"\n",
    "\n",
    "    # 경로 세팅\n",
    "    data_root = Path(data_root_str)\n",
    "    metadata_path = data_root.joinpath(\"metadata.json\")\n",
    "    parsed_docs_root = data_root.joinpath(parsed_docs_name)\n",
    "\n",
    "    # JSON 파일 불러오기\n",
    "    json_paths = [f for f in parsed_docs_root.rglob(\"*.json\") if f.is_file()]\n",
    "    docs = [(json_path, load_json(json_path)) for json_path in json_paths]\n",
    "\n",
    "    # Document → 문자열 변환\n",
    "    doc_contents = [get_str_from_doc(doc) for _, doc in docs]\n",
    "\n",
    "    # Chain 준비\n",
    "    basic_prompt_template = PromptTemplate.from_template(prompt_to_summarize)\n",
    "    chain = basic_prompt_template | llm | StrOutputParser()\n",
    "\n",
    "    # 비동기 요약 태스크 실행\n",
    "    tasks = [chain.ainvoke(doc_content) for doc_content in doc_contents]\n",
    "    results = await asyncio.gather(*tasks)\n",
    "\n",
    "    # metadata 생성\n",
    "    docs_list = []\n",
    "    for summary, path in zip(results, json_paths):\n",
    "        docs_list.append({summary: str(path)})\n",
    "\n",
    "    metadata = {\n",
    "        \"DocNum\": len(results),\n",
    "        \"serverID\": server_id,\n",
    "        \"Docs\": docs_list,\n",
    "    }\n",
    "\n",
    "    with metadata_path.open(\"w\", encoding=\"utf-8\") as f:\n",
    "        json.dump(metadata, f, ensure_ascii=False, indent=2)\n",
    "\n",
    "    return metadata\n"
   ]
  },
  {
   "cell_type": "code",
   "execution_count": 83,
   "id": "17525c9a",
   "metadata": {},
   "outputs": [
    {
     "data": {
      "text/plain": [
       "{'DocNum': 5,\n",
       " 'serverID': 'abc',\n",
       " 'Docs': [{\"1. **정책/법제**: 미국, AI 안전·보안 기준, 개인정보 보호, 형평성, 소비자 보호, 노동자 지원, 국제협력 등을 포함한 행정명령 발표. G7, 첨단 AI 시스템 위험 관리 국제 행동강령 채택. 28개국, AI 안전 보장을 위한 '블레츨리 선언' 합의.  \\n2. **기업/산업**: AI 개발 기업, 안전 테스트 결과 및 주요 정보 공유 의무화. G7 행동강령 자발적 채택 권고. 첨단 AI 기업, 투명성 강화 및 안전 평가 책임 부여.  \\n3. **기술/연구**: AI 수명주기 위험 평가·완화, 콘텐츠 인증 메커니즘 개발, 국가AI연구자원(NAIRR)을 통한 연구 인프라 지원.  \\n4. **인력/교육**: AI 분야 외국인 전문가 비자 절차 간소화. 공공부문 역량 구축 및 과학 연구개발 협력.  \\n\\n(요약: 주요국이 AI 안전·윤리 기준 수립 및 국제협력 강화, 기업 책임 강조, 기술 연구·인력 지원 방안 마련)\": '/Users/yujin/Desktop/코딩shit/python_projects/대한민국해커톤/민원마루ver1/datas/parsedDos/sample_AI_Brief.json'},\n",
       "  {'부산광역시 금정구 도서관 운영 규정은 회원 자격, 가입 절차, 대출 및 반납, 회원 의무, 탈퇴, 재가입, 자료 분실·훼손 시 변상, 장애인 도서 택배 서비스 등을 규정하며, 2024년 6월 14일 개정 시행되었다. 주요 내용은 부산광역시 거주자 및 재직자 회원 자격 부여, 14세 미만 아동 보호자 동의 필요, 전자도서관 별도 가입, 대출 기간 15일 및 재대출 조건, 미반납 시 제재, 자료 분실·훼손 시 변상 의무 등을 포함한다.  \\n\\n(요약 핵심: 금정구 도서관 회원 및 자료 관리 절차, 대출 조건, 개정 사항)': '/Users/yujin/Desktop/코딩shit/python_projects/대한민국해커톤/민원마루ver1/datas/parsedDos/부산광역시 금정구 도서관 운영 규정.json'},\n",
       "  {'부산광역시 금정구는 「독서문화 진흥법」에 따라 독서환경 조성 및 구민 독서 기회 균등 보장을 통해 삶의 질 개선을 목적으로 이 조례를 제정한다. 구청장은 독서문화 진흥 계획 수립, 독서 소외 계층 지원, 독서 행사 개최, 독서의 달(9월) 운영, 관계 기관 협력 등을 통해 독서문화 진흥 사업을 추진한다. 시행규칙 등 세부사항은 별도 규정으로 정한다.  \\n\\n(관리책임부서: 금정도서관, 전화번호: 051-519-5623)': '/Users/yujin/Desktop/코딩shit/python_projects/대한민국해커톤/민원마루ver1/datas/parsedDos/부산광역시 금정구 독서문화 진흥 조례.json'},\n",
       "  {'사용료 및 수강료 반환기준은 반환 사유에 따라 전액 또는 미사용·사용 기간 비례 금액을 반환하며, 사용개시일 이후 요청 시 사용 기간에 해당하는 금액과 잔여기간 금액의 10%를 공제 후 반환한다.  \\n\\n(각 반환 사유별 상세 금액 기준 포함)  \\n\\n요약: 반환 사유 및 시점에 따라 전액, 부분 또는 공제 후 금액 반환.  \\n\\n(더 간결하게)  \\n반환 사유·시점에 따라 전액 또는 부분 공제 후 반환.': '/Users/yujin/Desktop/코딩shit/python_projects/대한민국해커톤/민원마루ver1/datas/parsedDos/[별표2] 사용료 및 수강료 반환기준(제14조 관련).json'},\n",
       "  {'금정도서관 대강당, 금샘도서관 다목적 강당-전시공간, 냉·난방료의 사용료 기준을 1회 2시간 기준으로 명시하였으며, 초과 시 시간당 추가 요금이 적용됩니다. 부가세는 사용료에 포함되고, 기준시간 미만 사용 시 기준시간 요금이 적용되며, 설비 설치·준비시간도 사용시간에 포함됩니다. 평일 일과시간 외 및 주말 사용 시 30% 가산되며, 1일 이상 사용 시 최대 50% 감면 가능합니다.  \\n\\n- 금정도서관 대강당: 40,000원(초과 시 20,000원/시간)  \\n- 금샘도서관 다목적 강당-전시공간: 20,000원(초과 시 10,000원/시간)  \\n- 냉·난방료: 25,000원(초과 시 10,000원/시간)': '/Users/yujin/Desktop/코딩shit/python_projects/대한민국해커톤/민원마루ver1/datas/parsedDos/[별표1] 사용료 기준(제12조제2항 관련).json'}]}"
      ]
     },
     "execution_count": 83,
     "metadata": {},
     "output_type": "execute_result"
    }
   ],
   "source": [
    "metadata = await generate_metadata(server_id)\n",
    "metadata"
   ]
  },
  {
   "cell_type": "code",
   "execution_count": null,
   "id": "f2a8e2fe",
   "metadata": {},
   "outputs": [],
   "source": [
    "from speak_note.engine.init.make_metadata import generate_metadata\n",
    "\n",
    "sever_id = \"111\""
   ]
  }
 ],
 "metadata": {
  "kernelspec": {
   "display_name": "speak_note2",
   "language": "python",
   "name": "python3"
  },
  "language_info": {
   "codemirror_mode": {
    "name": "ipython",
    "version": 3
   },
   "file_extension": ".py",
   "mimetype": "text/x-python",
   "name": "python",
   "nbconvert_exporter": "python",
   "pygments_lexer": "ipython3",
   "version": "3.10.18"
  }
 },
 "nbformat": 4,
 "nbformat_minor": 5
}
