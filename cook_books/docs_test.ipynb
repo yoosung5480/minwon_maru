{
 "cells": [
  {
   "cell_type": "code",
   "execution_count": 5,
   "id": "35124478",
   "metadata": {},
   "outputs": [],
   "source": [
    "from speak_note.tools.llms import llm_list\n",
    "from speak_note.tools.context import retriever_configs, context_configs, Context\n",
    "from speak_note.work_flows import basic_RAG\n",
    "from speak_note.tools.myPDFparser import upstageParser2Document\n",
    "import speak_note.prompts.prompt as  prompt\n",
    "\n",
    "import asyncio"
   ]
  },
  {
   "cell_type": "markdown",
   "id": "798966de",
   "metadata": {},
   "source": [
    "# 서버 첫 INIT\n",
    "### 해야할일\n",
    "1. 문서pdf -> 문서json\n",
    "2. 메타데이터에 {문서요약 : 문서json경로} append하기."
   ]
  },
  {
   "cell_type": "markdown",
   "id": "4b655f4c",
   "metadata": {},
   "source": [
    "## 문서pdf -> 문서json"
   ]
  },
  {
   "cell_type": "code",
   "execution_count": 2,
   "id": "b3d8cf10",
   "metadata": {},
   "outputs": [
    {
     "name": "stdout",
     "output_type": "stream",
     "text": [
      "[PARSER] parsing 시작: /Users/yujin/Desktop/코딩shit/python_projects/대한민국해커톤/민원마루ver1/datas/rawDocs/[별표2] 사용료 및 수강료 반환기준(제14조 관련).pdf\n",
      "[PARSER] parsing 시작: /Users/yujin/Desktop/코딩shit/python_projects/대한민국해커톤/민원마루ver1/datas/rawDocs/부산광역시 금정구 도서관 운영 규정.pdf\n",
      "[PARSER] parsing 시작: /Users/yujin/Desktop/코딩shit/python_projects/대한민국해커톤/민원마루ver1/datas/rawDocs/[별표1] 사용료 기준(제12조제2항 관련).pdf\n",
      "[PARSER] parsing 시작: /Users/yujin/Desktop/코딩shit/python_projects/대한민국해커톤/민원마루ver1/datas/rawDocs/sample_AI_Brief.pdf\n",
      "[PARSER] parsing 시작: /Users/yujin/Desktop/코딩shit/python_projects/대한민국해커톤/민원마루ver1/datas/rawDocs/부산광역시 금정구 독서문화 진흥 조례.pdf\n",
      "[PARSER] parsing 완료: /Users/yujin/Desktop/코딩shit/python_projects/대한민국해커톤/민원마루ver1/datas/rawDocs/부산광역시 금정구 독서문화 진흥 조례.pdf / 소요시간: 1.52초\n",
      "[PARSER] parsing 완료: /Users/yujin/Desktop/코딩shit/python_projects/대한민국해커톤/민원마루ver1/datas/rawDocs/[별표2] 사용료 및 수강료 반환기준(제14조 관련).pdf / 소요시간: 1.64초\n",
      "[PARSER] parsing 완료: /Users/yujin/Desktop/코딩shit/python_projects/대한민국해커톤/민원마루ver1/datas/rawDocs/부산광역시 금정구 도서관 운영 규정.pdf / 소요시간: 1.70초\n",
      "[PARSER] parsing 완료: /Users/yujin/Desktop/코딩shit/python_projects/대한민국해커톤/민원마루ver1/datas/rawDocs/[별표1] 사용료 기준(제12조제2항 관련).pdf / 소요시간: 1.80초\n",
      "[PARSER] parsing 완료: /Users/yujin/Desktop/코딩shit/python_projects/대한민국해커톤/민원마루ver1/datas/rawDocs/sample_AI_Brief.pdf / 소요시간: 2.48초\n"
     ]
    }
   ],
   "source": [
    "from speak_note.engine.init.load_docs import load_docs\n",
    "\n",
    "result = await load_docs()"
   ]
  },
  {
   "cell_type": "markdown",
   "id": "d8beb8b8",
   "metadata": {},
   "source": [
    "#### 실전 코드"
   ]
  },
  {
   "cell_type": "code",
   "execution_count": 97,
   "id": "c1239d3f",
   "metadata": {},
   "outputs": [
    {
     "name": "stdout",
     "output_type": "stream",
     "text": [
      "[PARSER] parsing 시작: /Users/yujin/Desktop/코딩shit/python_projects/대한민국해커톤/민원마루ver1/datas/rawDocs/[별표2] 사용료 및 수강료 반환기준(제14조 관련).pdf\n",
      "[PARSER] parsing 시작: /Users/yujin/Desktop/코딩shit/python_projects/대한민국해커톤/민원마루ver1/datas/rawDocs/부산광역시 금정구 도서관 운영 규정.pdf\n",
      "[PARSER] parsing 시작: /Users/yujin/Desktop/코딩shit/python_projects/대한민국해커톤/민원마루ver1/datas/rawDocs/[별표1] 사용료 기준(제12조제2항 관련).pdf\n",
      "[PARSER] parsing 시작: /Users/yujin/Desktop/코딩shit/python_projects/대한민국해커톤/민원마루ver1/datas/rawDocs/sample_AI_Brief.pdf\n",
      "[PARSER] parsing 시작: /Users/yujin/Desktop/코딩shit/python_projects/대한민국해커톤/민원마루ver1/datas/rawDocs/부산광역시 금정구 독서문화 진흥 조례.pdf\n",
      "[PARSER] parsing 완료: /Users/yujin/Desktop/코딩shit/python_projects/대한민국해커톤/민원마루ver1/datas/rawDocs/[별표1] 사용료 기준(제12조제2항 관련).pdf / 소요시간: 1.54초\n",
      "[PARSER] parsing 완료: /Users/yujin/Desktop/코딩shit/python_projects/대한민국해커톤/민원마루ver1/datas/rawDocs/[별표2] 사용료 및 수강료 반환기준(제14조 관련).pdf / 소요시간: 1.64초\n",
      "[PARSER] parsing 완료: /Users/yujin/Desktop/코딩shit/python_projects/대한민국해커톤/민원마루ver1/datas/rawDocs/부산광역시 금정구 독서문화 진흥 조례.pdf / 소요시간: 1.72초\n",
      "[PARSER] parsing 완료: /Users/yujin/Desktop/코딩shit/python_projects/대한민국해커톤/민원마루ver1/datas/rawDocs/부산광역시 금정구 도서관 운영 규정.pdf / 소요시간: 1.83초\n",
      "[PARSER] parsing 완료: /Users/yujin/Desktop/코딩shit/python_projects/대한민국해커톤/민원마루ver1/datas/rawDocs/sample_AI_Brief.pdf / 소요시간: 2.43초\n"
     ]
    }
   ],
   "source": [
    "import os\n",
    "from pathlib import Path\n",
    "import asyncio\n",
    "import json\n",
    "\n",
    "data_root_str = \"/Users/yujin/Desktop/코딩shit/python_projects/대한민국해커톤/민원마루ver1/datas\"\n",
    "rawDocs_name = \"rawDocs\"\n",
    "parsed_docs_name = \"parsedDos\"\n",
    "\n",
    "data_root = Path(data_root_str)\n",
    "raw_docs_root = data_root.joinpath(rawDocs_name)\n",
    "parsed_docs_root = data_root.joinpath(parsed_docs_name)\n",
    "\n",
    "# 원본 파일 리스트 (파일명, Path)\n",
    "files = [(f.name, f) for f in raw_docs_root.rglob(\"*.pdf\") if f.is_file()]\n",
    "\n",
    "# 대응되는 JSON 저장 경로 생성\n",
    "def pdf2json_path(pdf_file: str):\n",
    "    return parsed_docs_root.joinpath(Path(pdf_file).stem + \".json\")\n",
    "\n",
    "save_names = [pdf2json_path(f[0]) for f in files]\n",
    "\n",
    "# 비동기 병렬 파싱\n",
    "tasks = [asyncio.create_task(upstageParser2Document(str(f[1]))) for f in files]\n",
    "results = await asyncio.gather(*tasks)\n",
    "# results: [ [Document(page1), Document(page2), ...], [Document(page1), ...], ... ]\n"
   ]
  },
  {
   "cell_type": "code",
   "execution_count": 102,
   "id": "38940a44",
   "metadata": {},
   "outputs": [
    {
     "name": "stderr",
     "output_type": "stream",
     "text": [
      "/var/folders/6q/q927ypwn4ll9d4rvjq9gl1qw0000gn/T/ipykernel_39869/192413637.py:5: PydanticDeprecatedSince20: The `dict` method is deprecated; use `model_dump` instead. Deprecated in Pydantic V2.0 to be removed in V3.0. See Pydantic V2 Migration Guide at https://errors.pydantic.dev/2.11/migration/\n",
      "  docs_serialized = [d.dict() for d in docs]\n"
     ]
    }
   ],
   "source": [
    "# 파일별로 저장\n",
    "for i, save_name in enumerate(save_names):\n",
    "    docs = results[i]  # 한 pdf의 여러 페이지 Document 리스트\n",
    "    # Document → dict 변환\n",
    "    docs_serialized = [d.dict() for d in docs]  \n",
    "\n",
    "    with save_name.open(\"w\", encoding=\"utf-8\") as f:\n",
    "        json.dump(docs_serialized, f, ensure_ascii=False, indent=2)\n"
   ]
  },
  {
   "cell_type": "markdown",
   "id": "9c820f3f",
   "metadata": {},
   "source": [
    "### 다시 json파일 불러오기"
   ]
  },
  {
   "cell_type": "code",
   "execution_count": 108,
   "id": "f0a57f83",
   "metadata": {},
   "outputs": [
    {
     "data": {
      "text/plain": [
       "[Document(metadata={'page': 1}, page_content=\"1. 정책/법제\\n2. 기업/산업\\n3. 기술/연구\\n4. 인력/교육\\n미국, 안전하고 신뢰할 수 있는 AI 개발과 사용에 관한 행정명령 발표\\nKEY Contents\\n미국 바이든 대통령이 '안전하고 신뢰할 수 있는 AI 개발과 사용에 관한 행정명령'에 서명하고\\n광범위한 행정 조치를 명시\\n■ 행정명령은 △AI의 안전과 보안 기준 마련 △개인정보보호 △형평성과 시민권 향상 △소비자\\n보호 △노동자 지원 △혁신과 경쟁 촉진 △국제협력을 골자로 함\\n바이든 대통령, AI 행정명령 통해 안전하고 신뢰할 수 있는 AI 개발과 활용 추진\\n■ 미국 바이든 대통령이 2023년 10월 30일 연방정부 차원에서 안전하고 신뢰할 수 있는 AI 개발과\\n사용을 보장하기 위한 행정명령을 발표\\n· 행정명령은 △AI의 안전과 보안 기준 마련 △개인정보보호 △형평성과 시민권 향상 △소비자 보호\\n△노동자 지원 △혁신과 경쟁 촉진 △국제협력에 관한 내용을 포괄\\n(AI 안전과 보안 기준) 강력한 AI 시스템을 개발하는 기업에게 안전 테스트 결과와 시스템에 관한\\n주요 정보를 미국 정부와 공유할 것을 요구하고, AI 시스템의 안전성과 신뢰성 확인을 위한 표준 및\\nAI 생성 콘텐츠 표시를 위한 표준과 모범사례 확립을 추진\\n· △1026 플롭스(FLOPS, Floating Point Operation Per Second)를 초과하는 컴퓨팅 성능 또는 생물학적\\n서열 데이터를 주로 사용하고 1023플롭스를 초과하는 컴퓨팅 성능을 사용하는 모델 △단일 데이터센터에서\\n1,000Gbit/s 이상의 네트워킹으로 연결되며 AI 훈련에서 이론상 최대 1020 플롭스를 처리할 수 있는\\n컴퓨팅 용량을 갖춘 컴퓨팅 클러스터가 정보공유 요구대상\\n(형평성과 시민권 향상) 법률, 주택, 보건 분야에서 AI의 무책임한 사용으로 인한 차별과 편견 및 기타\\n문제를 방지하는 조치를 확대\\n● 형사사법 시스템에서 AI 사용 모범사례를 개발하고, 주택 임대 시 AI 알고리즘 차별을 막기 위한 명확한\\n지침을 제공하며, 보건복지 부문에서 책임 있는 AI 배포와 사용을 위한 전략을 마련\\n■ (소비자 보호와 근로자 지원) 의료 분야에서 책임 있는 AI 사용을 촉진하고 맞춤형 개인교습 등 학교\\n내 AI 교육 도구 관련 자원을 개발하며, AI로 인한 근로자 피해를 완화하고 이점을 극대화하는 원칙과\\n모범사례를 마련\\n(혁신과 경쟁 촉진) 국가AI연구자원(National Artificial Intelligence Research Resource, NAIRR)*을\\n통해 미국 전역의 AI 연구를 촉진하고, 중소기업과 개발자에 기술과 인프라를 지원\\n* 국가 차원에서 AI 연구 인프라를 확충해 더 많은 AI 연구자에게 인프라를 지원하는 프로그램\\n● 비자 기준과 인터뷰 절차의 현대화와 간소화로 AI 관련 주요 분야의 전문 지식을 갖춘 외국인들이 미국에서\\n공부하고 취업할 수 있도록 지원\\n☞ 출처 : The White House, Executive Order on the Safe, Secure, and Trustworthy Development and Use of\\nArtificial Intelligence (E.O. 14110), 2023.10.30.\"),\n",
       " Document(metadata={'page': 2}, page_content=\"SPRi AI Brief -\\n2023-12월호\\nG7, 히로시마 AI 프로세스를 통해 AI 기업 대상 국제 행동강령에 합의\\nKEY Contents\\nG7이 첨단 AI 시스템을 개발하는 기업을 대상으로 AI 위험 식별과 완화를 위해 자발적인\\n채택을 권고하는 AI 국제 행동강령을 마련\\n행동강령은 AI 수명주기 전반에 걸친 위험 평가와 완화, 투명성과 책임성의 보장, 정보공유와\\n이해관계자 간 협력, 보안 통제, 콘텐츠 인증과 출처 확인 등의 조치를 요구\\n。 G7, 첨단 AI 시스템의 위험 관리를 위한 국제 행동강령 마련\\n주요 7개국(G7)*은 2023년 10월 30일 '히로시마 AI 프로세스'를 통해 AI 기업 대상의 AI 국제\\n행동강령(International Code of Conduct for Advanced AI Systems)에 합의\\n● G7은 2023년 5월 일본 히로시마에서 개최된 정상회의에서 생성 AI에 관한 국제규범 마련과\\n정보공유를 위해 '히로시마 AI 프로세스'를 출범**\\n● 기업의 자발적 채택을 위해 마련된 이번 행동강령은 기반모델과 생성 AI를 포함한 첨단 AI 시스템의\\n위험 식별과 완화에 필요한 조치를 포함\\n* 주요 7개국(G7)은 미국, 일본, 독일, 영국, 프랑스, 이탈리아, 캐나다를 의미\\n** 5월 정상회의에는 한국, 호주, 베트남 등을 포함한 8개국이 초청을 받았으나, AI 국제 행동강령에는 우선 G7 국가만 포함하여 채택\\nG7은 행동강령을 통해 아래의 조치를 제시했으며, 빠르게 발전하는 기술에 대응할 수 있도록\\n이해관계자 협의를 통해 필요에 따라 개정할 예정\\n· 첨단 AI 시스템의 개발 과정에서 AI 수명주기 전반에 걸쳐 위험을 평가 및 완화하는 조치를 채택하고,\\n첨단 AI 시스템의 출시와 배포 이후 취약점과 오용 사고, 오용 유형을 파악해 완화\\n· 첨단 AI 시스템의 성능과 한계를 공개하고 적절하거나 부적절한 사용영역을 알리는 방법으로 투명성을\\n보장하고 책임성을 강화\\n· 산업계, 정부, 시민사회, 학계를 포함해 첨단 AI 시스템을 개발하는 조직 간 정보공유와 사고 발생 시\\n신고를 위해 협력하고, 위험 기반 접근방식을 토대로 개인정보보호 정책과 위험 완화 조치를 포함하는\\nAI 거버넌스와 위험 관리 정책을 마련\\n· AI 수명주기 전반에 걸쳐 물리보안, 사이버보안, 내부자 위협 보안을 포함한 강력한 보안 통제 구현\\n· 사용자가 AI 생성 콘텐츠를 식별할 수 있도록 워터마크를 비롯하여 기술적으로 가능한 기법으로\\n신뢰할 수 있는 콘텐츠 인증과 출처 확인 메커니즘을 개발 및 구축\\n· 사회적 위험과 안전·보안 문제를 완화하는 연구와 효과적인 완화 대책에 우선 투자하고, 기후 위기\\n대응, 세계 보건과 교육 등 세계적 난제 해결을 위한 첨단 AI 시스템을 우선 개발\\n· 국제 기술 표준의 개발 및 채택을 가속화하고, 개인정보와 지식재산권 보호를 위해 데이터 입력과 수집\\n시 적절한 보호 장치 구현\\n☞ 출처: G7, Hiroshima Process International Code of Conduct for Advanced AI Systems, 2023.10.30.\\n2\"),\n",
       " Document(metadata={'page': 3}, page_content=\"1. 정책/법제\\n2. 기업/산업\\n3. 기술/연구\\n4. 인력/교육\\n영국 AI 안전성 정상회의에 참가한 28개국, AI 위험에 공동 대응 선언\\nKEY Contents\\n영국 블레츨리 파크에서 개최된 AI 안전성 정상회의에 참가한 28개국들이 AI 안전 보장을\\n위한 협력 방안을 담은 블레츨리 선언을 발표\\n첨단 AI를 개발하는 국가와 기업들은 AI 시스템에 대한 안전 테스트 계획에 합의했으며,\\n영국의 AI 안전 연구소가 전 세계 국가와 협력해 테스트를 주도할 예정\\nAI 안전성 정상회의 참가국들, 블레츨리 선언 통해 AI 안전 보장을 위한 협력에 합의\\n2023년 11월 1~2일 영국 블레츨리 파크에서 열린 AI 안전성 정상회의(AI Safety Summit)에\\n참가한 28개국 대표들이 AI 위험 관리를 위한 '블레츨리 선언'을 발표\\n● 선언은 AI 안전 보장을 위해 국가, 국제기구, 기업, 시민사회, 학계를 포함한 모든 이해관계자의 협력이\\n중요하다고 강조했으며, 특히 최첨단 AI 시스템 개발 기업은 안전 평가를 비롯한 적절한 조치를 취하여\\nAI 시스템의 안전을 보장할 책임이 있다고 지적\\n· 각국은 AI 안전 보장을 위해 첨단 AI 개발기업의 투명성 향상, 적절한 평가지표와 안전 테스트 도구\\n개발, 공공부문 역량 구축과 과학 연구개발 등의 분야에서 협력하기로 합의\\n영국 총리, 정부 주도의 첨단 AI 시스템 안전 테스트 계획 발표\\n리시 수낙 영국 총리는 AI 안전성 정상회의를 마무리하며 첨단 AI 모델에 대한 안전성 시험 계획\\n수립과 테스트 수행을 주도할 영국 AI 안전 연구소의 출범을 발표\\n· 첨단 AI 모델의 안전 테스트는 국가 안보와 안전, 사회적 피해를 포함한 여러 잠재적 유해 기능에 대한\\n시험을 포함하며, 참석자들은 정부 주도의 외부 안전 테스트에 합의\\n● 각국 정부는 테스트와 기타 안전 연구를 위한 공공부문 역량에 투자하고, 테스트 결과가 다른 국가와\\n관련된 경우 해당 국가와 결과를 공유하며, 적절한 시기에 공동 표준 개발을 위해 노력하기로 합의\\n참가국들은 튜링상을 수상한 AI 학자인 요슈아 벤지오 교수가 주도하는 '과학의 현황(State of\\nthe Science)' 보고서 작성에도 합의했으며, 보고서를 통해 첨단 AI의 위험과 가능성에 관한\\n기존 연구를 과학적으로 평가하고 향후 AI 안전 연구를 위한 우선순위를 제시할 계획\\n한국은 영국 정부와 6개월 뒤에 온라인으로 AI 미니 정상회의를 공동 개최하기로 합의했으며,\\n프랑스 정부와는 1년 후 대면 정상회의를 개최할 예정\\n☞ 출처: Gov.uk, The Bletchley Declaration by Countries Attending the AI Safety Summit, 1-2 November 2023, 2023.11.01.\\nGov.uk, World leaders, top AI companies set out plan for safety testing of frontier as first global AI Safety Summit\\nconcludes, 2023.11.02.\")]"
      ]
     },
     "execution_count": 108,
     "metadata": {},
     "output_type": "execute_result"
    }
   ],
   "source": [
    "from speak_note.tools.json_tool import load_json\n",
    "\n",
    "docs = load_json(save_names[3])\n",
    "docs"
   ]
  },
  {
   "cell_type": "markdown",
   "id": "5a1db23f",
   "metadata": {},
   "source": [
    "#### 요약 데이터 및 메타데이터 생성하기"
   ]
  }
 ],
 "metadata": {
  "kernelspec": {
   "display_name": "speak_note2",
   "language": "python",
   "name": "python3"
  },
  "language_info": {
   "codemirror_mode": {
    "name": "ipython",
    "version": 3
   },
   "file_extension": ".py",
   "mimetype": "text/x-python",
   "name": "python",
   "nbconvert_exporter": "python",
   "pygments_lexer": "ipython3",
   "version": "3.10.18"
  }
 },
 "nbformat": 4,
 "nbformat_minor": 5
}
